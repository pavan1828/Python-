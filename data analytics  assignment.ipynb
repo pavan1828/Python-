{
 "cells": [
  {
   "cell_type": "markdown",
   "id": "ac97c077",
   "metadata": {},
   "source": [
    "## what will be the output of the following  python program"
   ]
  },
  {
   "cell_type": "code",
   "execution_count": 1,
   "id": "57a1b390",
   "metadata": {},
   "outputs": [
    {
     "name": "stdout",
     "output_type": "stream",
     "text": [
      "True\n"
     ]
    }
   ],
   "source": [
    "def foo(x):\n",
    "    x[0]=['def']\n",
    "    x[1]=['abc']\n",
    "    return id(x)\n",
    "q=['abc','def']\n",
    "print(id(q)==foo(q))"
   ]
  },
  {
   "cell_type": "markdown",
   "id": "8440a649",
   "metadata": {},
   "source": [
    "The foo function modifies the first two elements of the input list x and sets them to new lists ['def'] and ['abc'], respectively. It then returns the identity of the modified list x. The print statement compares the identity of the original list q with the result of calling foo(q). The comparison checks if they refer to the same object in memory"
   ]
  },
  {
   "cell_type": "markdown",
   "id": "63cde0b5",
   "metadata": {},
   "source": [
    "## what will be the output of the following  python code?"
   ]
  },
  {
   "cell_type": "code",
   "execution_count": 2,
   "id": "f6138088",
   "metadata": {},
   "outputs": [
    {
     "name": "stdout",
     "output_type": "stream",
     "text": [
      "2\n"
     ]
    }
   ],
   "source": [
    "def fun():\n",
    "    try:\n",
    "        return 1\n",
    "    finally:\n",
    "        return 2\n",
    "k= fun()\n",
    "print(k)\n",
    "    "
   ]
  },
  {
   "cell_type": "markdown",
   "id": "cbc2eb04",
   "metadata": {},
   "source": [
    "* The fun function has a try block with return 1 and a finally block with return 2.\n",
    "* The finally block always executes, overriding the return 1 in the try block.\n",
    "* When calling fun(), it returns 2 due to the return 2 in the finally block.\n",
    "* The assigned value k is 2.\n",
    "* Printing k will output 2."
   ]
  },
  {
   "cell_type": "markdown",
   "id": "4fb89118",
   "metadata": {},
   "source": [
    "## what will be the output  of the following code snippet?"
   ]
  },
  {
   "cell_type": "code",
   "execution_count": 3,
   "id": "ec3d5c2f",
   "metadata": {},
   "outputs": [
    {
     "name": "stdout",
     "output_type": "stream",
     "text": [
      "Local\n"
     ]
    }
   ],
   "source": [
    "def func():\n",
    "    global value\n",
    "    value = 'Local'\n",
    "value = 'Global'\n",
    "func()\n",
    "print(value)"
   ]
  },
  {
   "cell_type": "markdown",
   "id": "a1964f99",
   "metadata": {},
   "source": [
    "* Initializes a global variable value with the value 'Global'.\n",
    "* Defines a function func that uses the global keyword to declare that the variable value within the function refers to the global scope. Inside the function, it sets the value of the global variable value to 'Local'.\n",
    "* Outside the function, calls func() to execute it.\n",
    "* Prints the current value of the global variable value using print(value).\n"
   ]
  },
  {
   "cell_type": "markdown",
   "id": "1ff7bc02",
   "metadata": {},
   "source": [
    "## 4.  ___________ exceptions are raised as result of an error in opening a particular file"
   ]
  },
  {
   "cell_type": "markdown",
   "id": "a144fbb9",
   "metadata": {},
   "source": [
    "IOError"
   ]
  },
  {
   "cell_type": "markdown",
   "id": "9a0ef7d0",
   "metadata": {},
   "source": [
    "## 5. In python we do not specify types ,it is directly interpert by the complier, so consider the following operation to be performed"
   ]
  },
  {
   "cell_type": "markdown",
   "id": "4113eca8",
   "metadata": {},
   "source": [
    "a) x =13/2 \n",
    "\n",
    "b) x=int(13/2)\n",
    "\n",
    "c) x= 13%2\n",
    "\n",
    "D) All Of  the mentioned"
   ]
  },
  {
   "cell_type": "code",
   "execution_count": 4,
   "id": "8404fba1",
   "metadata": {},
   "outputs": [
    {
     "data": {
      "text/plain": [
       "6"
      ]
     },
     "execution_count": 4,
     "metadata": {},
     "output_type": "execute_result"
    }
   ],
   "source": [
    "13//2"
   ]
  },
  {
   "cell_type": "code",
   "execution_count": 5,
   "id": "138a41ff",
   "metadata": {},
   "outputs": [
    {
     "data": {
      "text/plain": [
       "6"
      ]
     },
     "execution_count": 5,
     "metadata": {},
     "output_type": "execute_result"
    }
   ],
   "source": [
    "int(13//2)"
   ]
  },
  {
   "cell_type": "code",
   "execution_count": 6,
   "id": "32c92bad",
   "metadata": {},
   "outputs": [
    {
     "data": {
      "text/plain": [
       "1"
      ]
     },
     "execution_count": 6,
     "metadata": {},
     "output_type": "execute_result"
    }
   ],
   "source": [
    "13%2"
   ]
  },
  {
   "cell_type": "markdown",
   "id": "69089366",
   "metadata": {},
   "source": [
    "### answer : D) All Of the mentioned\n",
    "\n"
   ]
  },
  {
   "cell_type": "markdown",
   "id": "e38543a1",
   "metadata": {},
   "source": [
    "## 6.what willl be the out put of the follwing Python code?"
   ]
  },
  {
   "cell_type": "code",
   "execution_count": 7,
   "id": "da3c457e",
   "metadata": {},
   "outputs": [],
   "source": [
    "#t[5] # name error"
   ]
  },
  {
   "cell_type": "markdown",
   "id": "502de93c",
   "metadata": {},
   "source": [
    "a)IndexError\n",
    "\n",
    "b)NameError\n",
    "\n",
    "c)TypeError\n",
    "\n",
    "d)SyntactialError"
   ]
  },
  {
   "cell_type": "markdown",
   "id": "521822c8",
   "metadata": {},
   "source": [
    "## 7. A while loop in python is used for what type of iteration"
   ]
  },
  {
   "cell_type": "markdown",
   "id": "72b54761",
   "metadata": {},
   "source": [
    "a) indefinite\n",
    "\n",
    "b) discriminant\n",
    "\n",
    "c) definite\n",
    "\n",
    "d) indeterminate"
   ]
  },
  {
   "cell_type": "markdown",
   "id": "c101fd5f",
   "metadata": {},
   "source": [
    "while loop is used for indefinite iteration, With the while loop we can execute a set of statements as long as a condition is true."
   ]
  },
  {
   "cell_type": "markdown",
   "id": "3daec7d5",
   "metadata": {},
   "source": [
    "### syntax:\n",
    "\n",
    "while condition:\n",
    "\n",
    "    # body of while loop\n"
   ]
  },
  {
   "cell_type": "code",
   "execution_count": 8,
   "id": "79494393",
   "metadata": {},
   "outputs": [
    {
     "name": "stdout",
     "output_type": "stream",
     "text": [
      "1\n",
      "2\n",
      "3\n",
      "4\n"
     ]
    }
   ],
   "source": [
    "i= 1\n",
    "while i < 5:\n",
    "    print(i)\n",
    "    i+= 1\n"
   ]
  },
  {
   "cell_type": "markdown",
   "id": "34e25c61",
   "metadata": {},
   "source": [
    "## 8. What will be the output of the following python code?"
   ]
  },
  {
   "cell_type": "code",
   "execution_count": 9,
   "id": "afb2aaa2",
   "metadata": {},
   "outputs": [
    {
     "ename": "TypeError",
     "evalue": "'in <string>' requires string as left operand, not int",
     "output_type": "error",
     "traceback": [
      "\u001b[1;31m---------------------------------------------------------------------------\u001b[0m",
      "\u001b[1;31mTypeError\u001b[0m                                 Traceback (most recent call last)",
      "\u001b[1;32m~\\AppData\\Local\\Temp\\ipykernel_19832\\4255817063.py\u001b[0m in \u001b[0;36m<module>\u001b[1;34m\u001b[0m\n\u001b[0;32m      1\u001b[0m \u001b[0mx\u001b[0m \u001b[1;33m=\u001b[0m \u001b[1;34m\"abcdef\"\u001b[0m\u001b[1;33m\u001b[0m\u001b[1;33m\u001b[0m\u001b[0m\n\u001b[1;32m----> 2\u001b[1;33m \u001b[1;32mwhile\u001b[0m \u001b[0mi\u001b[0m \u001b[1;32min\u001b[0m \u001b[0mx\u001b[0m\u001b[1;33m:\u001b[0m\u001b[1;33m\u001b[0m\u001b[1;33m\u001b[0m\u001b[0m\n\u001b[0m\u001b[0;32m      3\u001b[0m     \u001b[0mprint\u001b[0m\u001b[1;33m(\u001b[0m\u001b[0mi\u001b[0m\u001b[1;33m,\u001b[0m \u001b[0mend\u001b[0m\u001b[1;33m=\u001b[0m\u001b[1;34m\" \"\u001b[0m\u001b[1;33m)\u001b[0m\u001b[1;33m\u001b[0m\u001b[1;33m\u001b[0m\u001b[0m\n",
      "\u001b[1;31mTypeError\u001b[0m: 'in <string>' requires string as left operand, not int"
     ]
    }
   ],
   "source": [
    "x = \"abcdef\"\n",
    "while i in x:\n",
    "    print(i, end=\" \")"
   ]
  },
  {
   "cell_type": "markdown",
   "id": "d4944280",
   "metadata": {},
   "source": [
    "will raise a **NameError** because the variable i is not defined before being used in the loop condition."
   ]
  },
  {
   "cell_type": "code",
   "execution_count": 10,
   "id": "19a94d72",
   "metadata": {},
   "outputs": [
    {
     "name": "stdout",
     "output_type": "stream",
     "text": [
      "a b c d e f "
     ]
    }
   ],
   "source": [
    "\n",
    "x = \"abcdef\"\n",
    "i = 0\n",
    "while i < len(x):\n",
    "    print(x[i], end=\" \")\n",
    "    i += 1\n"
   ]
  },
  {
   "cell_type": "markdown",
   "id": "4a07c9da",
   "metadata": {},
   "source": [
    "## 9. what is main advantage of using decorators in python?"
   ]
  },
  {
   "cell_type": "markdown",
   "id": "8de681e5",
   "metadata": {},
   "source": [
    "a) they make code more complex\n",
    "\n",
    "b) they simplify the syntax of the decorated function\n",
    "\n",
    "c) they reduce the performance of the code\n",
    "\n",
    "d) they provide additional security features\n",
    "\n"
   ]
  },
  {
   "cell_type": "markdown",
   "id": "d6ec8c68",
   "metadata": {},
   "source": [
    "* Decorator is one of the Function which will provides Additional Processing capability to the normal Function value and returns the modified value.\n",
    "\n",
    "* A Decorator Function is always takes Normal Function as parameter\n",
    "\n",
    "### b) they simplify the syntax of the decorated function\n",
    "\n"
   ]
  },
  {
   "cell_type": "markdown",
   "id": "b65014e5",
   "metadata": {},
   "source": [
    "## 10. if return statement is not used inside the function , the function will return\n",
    "\n",
    "\n",
    "a)None\n",
    "\n",
    "b)0\n",
    "\n",
    "c)Null\n",
    "\n",
    "d)Arbitary value"
   ]
  },
  {
   "cell_type": "markdown",
   "id": "4873b909",
   "metadata": {},
   "source": [
    "#### None"
   ]
  },
  {
   "cell_type": "markdown",
   "id": "d2bd17e9",
   "metadata": {},
   "source": [
    "## 11.what is called when function is defined inside a class?\n",
    "\n",
    "a) class\n",
    "\n",
    "b) Function\n",
    "\n",
    "c)method\n",
    "\n",
    "d)Module"
   ]
  },
  {
   "cell_type": "markdown",
   "id": "95eb6598",
   "metadata": {},
   "source": [
    "When a function is defined inside a class, we call it a **Method**"
   ]
  },
  {
   "cell_type": "markdown",
   "id": "90fd4b0d",
   "metadata": {},
   "source": [
    "## 12. which operator is used in python to import modules from a package?\n",
    "\n",
    "a)•\n",
    "\n",
    "b)*\n",
    "\n",
    "c)->\n",
    "\n",
    "d)&"
   ]
  },
  {
   "cell_type": "code",
   "execution_count": null,
   "id": "937b7ce6",
   "metadata": {},
   "outputs": [],
   "source": []
  },
  {
   "cell_type": "markdown",
   "id": "5920610b",
   "metadata": {},
   "source": [
    "## 13."
   ]
  },
  {
   "cell_type": "code",
   "execution_count": 11,
   "id": "92563233",
   "metadata": {},
   "outputs": [
    {
     "name": "stdout",
     "output_type": "stream",
     "text": [
      "6\n"
     ]
    }
   ],
   "source": [
    "def getMonth(m):\n",
    "    if m < 1 or m>12:\n",
    "        raise ValueError(\"Invalid\")\n",
    "    print(m)\n",
    "getMonth(6)"
   ]
  },
  {
   "cell_type": "markdown",
   "id": "55bc6801",
   "metadata": {},
   "source": [
    "The getMonth function takes an argument m, which represents a month. It checks if the value of m is less than 1 or greater than 12. If either condition is true, it raises a ValueError with the message \"Invalid.\" Otherwise, it prints the value of m."
   ]
  },
  {
   "cell_type": "markdown",
   "id": "824eeb31",
   "metadata": {},
   "source": [
    "## 14. In python programing language , syntax error is detected  by ________at_______"
   ]
  },
  {
   "cell_type": "markdown",
   "id": "35ca38fd",
   "metadata": {},
   "source": [
    "a) interpreter / compile time\n",
    "\n",
    "b) Runtime /interpreter\n",
    "\n",
    "c)interpreter/Run time\n",
    "\n",
    "d)compile time /Run time\n",
    "\n",
    "\n",
    "\n",
    "### a) interpreter / compile time"
   ]
  },
  {
   "cell_type": "markdown",
   "id": "d123d4f3",
   "metadata": {},
   "source": [
    "## 15"
   ]
  },
  {
   "cell_type": "code",
   "execution_count": 12,
   "id": "6223733f",
   "metadata": {},
   "outputs": [],
   "source": [
    "class Book:\n",
    "    def __init__(self,author):\n",
    "        self.author = author\n",
    "book1 = Book('V.M.Shah')\n",
    "book2 = book1\n",
    "    "
   ]
  },
  {
   "cell_type": "markdown",
   "id": "39ec8b30",
   "metadata": {},
   "source": [
    "a)Both book1 and book2 will have reference to two different objects of class Book\n",
    "\n",
    "b)id(book1) and id(book2) will have same value\n",
    "\n",
    "c)it wil throw error as multiple reference  to same object is not possible\n",
    "\n",
    "d) None of the above\n"
   ]
  },
  {
   "cell_type": "code",
   "execution_count": 13,
   "id": "0f1ad983",
   "metadata": {},
   "outputs": [
    {
     "data": {
      "text/plain": [
       "2266623470320"
      ]
     },
     "execution_count": 13,
     "metadata": {},
     "output_type": "execute_result"
    }
   ],
   "source": [
    "id(book1)"
   ]
  },
  {
   "cell_type": "code",
   "execution_count": 14,
   "id": "e03d9696",
   "metadata": {},
   "outputs": [
    {
     "data": {
      "text/plain": [
       "2266623470320"
      ]
     },
     "execution_count": 14,
     "metadata": {},
     "output_type": "execute_result"
    }
   ],
   "source": [
    "id(book2)"
   ]
  },
  {
   "cell_type": "markdown",
   "id": "45f1643d",
   "metadata": {},
   "source": [
    "### b)id(book1) and id(book2) will have same value"
   ]
  },
  {
   "cell_type": "markdown",
   "id": "ff8344b4",
   "metadata": {},
   "source": [
    "## Module - Data Analysis"
   ]
  },
  {
   "cell_type": "code",
   "execution_count": 15,
   "id": "758005be",
   "metadata": {},
   "outputs": [
    {
     "data": {
      "text/html": [
       "<div>\n",
       "<style scoped>\n",
       "    .dataframe tbody tr th:only-of-type {\n",
       "        vertical-align: middle;\n",
       "    }\n",
       "\n",
       "    .dataframe tbody tr th {\n",
       "        vertical-align: top;\n",
       "    }\n",
       "\n",
       "    .dataframe thead th {\n",
       "        text-align: right;\n",
       "    }\n",
       "</style>\n",
       "<table border=\"1\" class=\"dataframe\">\n",
       "  <thead>\n",
       "    <tr style=\"text-align: right;\">\n",
       "      <th></th>\n",
       "      <th>Date</th>\n",
       "      <th>Category</th>\n",
       "      <th>Product</th>\n",
       "      <th>Customer_id</th>\n",
       "      <th>Quantity</th>\n",
       "      <th>UnitPrice</th>\n",
       "    </tr>\n",
       "  </thead>\n",
       "  <tbody>\n",
       "    <tr>\n",
       "      <th>0</th>\n",
       "      <td>2024-01-01</td>\n",
       "      <td>Beverage</td>\n",
       "      <td>Cappuccino</td>\n",
       "      <td>C004</td>\n",
       "      <td>1</td>\n",
       "      <td>3.0</td>\n",
       "    </tr>\n",
       "    <tr>\n",
       "      <th>1</th>\n",
       "      <td>2024-01-02</td>\n",
       "      <td>Food</td>\n",
       "      <td>Croissant</td>\n",
       "      <td>C002</td>\n",
       "      <td>2</td>\n",
       "      <td>2.0</td>\n",
       "    </tr>\n",
       "    <tr>\n",
       "      <th>2</th>\n",
       "      <td>2024-01-03</td>\n",
       "      <td>Beverage</td>\n",
       "      <td>Espresso</td>\n",
       "      <td>C001</td>\n",
       "      <td>2</td>\n",
       "      <td>2.0</td>\n",
       "    </tr>\n",
       "    <tr>\n",
       "      <th>3</th>\n",
       "      <td>2024-01-10</td>\n",
       "      <td>Beverage</td>\n",
       "      <td>Latte</td>\n",
       "      <td>C001</td>\n",
       "      <td>3</td>\n",
       "      <td>3.5</td>\n",
       "    </tr>\n",
       "    <tr>\n",
       "      <th>4</th>\n",
       "      <td>2024-01-09</td>\n",
       "      <td>Beverage</td>\n",
       "      <td>Latte</td>\n",
       "      <td>C003</td>\n",
       "      <td>1</td>\n",
       "      <td>3.5</td>\n",
       "    </tr>\n",
       "    <tr>\n",
       "      <th>5</th>\n",
       "      <td>2024-01-08</td>\n",
       "      <td>Food</td>\n",
       "      <td>Muffin</td>\n",
       "      <td>C002</td>\n",
       "      <td>1</td>\n",
       "      <td>2.5</td>\n",
       "    </tr>\n",
       "  </tbody>\n",
       "</table>\n",
       "</div>"
      ],
      "text/plain": [
       "         Date  Category     Product Customer_id  Quantity  UnitPrice\n",
       "0  2024-01-01  Beverage  Cappuccino        C004         1        3.0\n",
       "1  2024-01-02      Food   Croissant        C002         2        2.0\n",
       "2  2024-01-03  Beverage    Espresso        C001         2        2.0\n",
       "3  2024-01-10  Beverage       Latte        C001         3        3.5\n",
       "4  2024-01-09  Beverage       Latte        C003         1        3.5\n",
       "5  2024-01-08      Food      Muffin        C002         1        2.5"
      ]
     },
     "execution_count": 15,
     "metadata": {},
     "output_type": "execute_result"
    }
   ],
   "source": [
    "import pandas as pd\n",
    "\n",
    "\n",
    "data = {\n",
    "    'Date': ['2024-01-01', '2024-01-02', '2024-01-03','2024-01-10','2024-01-09','2024-01-08'],\n",
    "    'Category': ['Beverage', 'Food', 'Beverage','Beverage','Beverage','Food'],\n",
    "    'Product': ['Cappuccino', 'Croissant', 'Espresso','Latte','Latte','Muffin'],\n",
    "    'Customer_id': ['C004','C002','C001','C001','C003','C002'],\n",
    "    'Quantity': [1, 2, 2,3,1,1],\n",
    "    'UnitPrice': [3, 2,2,3.5,3.5,2.5]}\n",
    "\n",
    "\n",
    "df = pd.DataFrame(data)\n",
    "df\n"
   ]
  },
  {
   "cell_type": "markdown",
   "id": "370c7246",
   "metadata": {},
   "source": [
    "##  How to create a new column \"Revenue\" which has value equal to the Quantity * UnitPrice\" of the current row?"
   ]
  },
  {
   "cell_type": "code",
   "execution_count": 16,
   "id": "63308601",
   "metadata": {},
   "outputs": [],
   "source": [
    "df['Revenue'] = df['Quantity'] * df['UnitPrice']"
   ]
  },
  {
   "cell_type": "code",
   "execution_count": 17,
   "id": "287e2d13",
   "metadata": {},
   "outputs": [
    {
     "data": {
      "text/html": [
       "<div>\n",
       "<style scoped>\n",
       "    .dataframe tbody tr th:only-of-type {\n",
       "        vertical-align: middle;\n",
       "    }\n",
       "\n",
       "    .dataframe tbody tr th {\n",
       "        vertical-align: top;\n",
       "    }\n",
       "\n",
       "    .dataframe thead th {\n",
       "        text-align: right;\n",
       "    }\n",
       "</style>\n",
       "<table border=\"1\" class=\"dataframe\">\n",
       "  <thead>\n",
       "    <tr style=\"text-align: right;\">\n",
       "      <th></th>\n",
       "      <th>Date</th>\n",
       "      <th>Category</th>\n",
       "      <th>Product</th>\n",
       "      <th>Customer_id</th>\n",
       "      <th>Quantity</th>\n",
       "      <th>UnitPrice</th>\n",
       "      <th>Revenue</th>\n",
       "    </tr>\n",
       "  </thead>\n",
       "  <tbody>\n",
       "    <tr>\n",
       "      <th>0</th>\n",
       "      <td>2024-01-01</td>\n",
       "      <td>Beverage</td>\n",
       "      <td>Cappuccino</td>\n",
       "      <td>C004</td>\n",
       "      <td>1</td>\n",
       "      <td>3.0</td>\n",
       "      <td>3.0</td>\n",
       "    </tr>\n",
       "    <tr>\n",
       "      <th>1</th>\n",
       "      <td>2024-01-02</td>\n",
       "      <td>Food</td>\n",
       "      <td>Croissant</td>\n",
       "      <td>C002</td>\n",
       "      <td>2</td>\n",
       "      <td>2.0</td>\n",
       "      <td>4.0</td>\n",
       "    </tr>\n",
       "    <tr>\n",
       "      <th>2</th>\n",
       "      <td>2024-01-03</td>\n",
       "      <td>Beverage</td>\n",
       "      <td>Espresso</td>\n",
       "      <td>C001</td>\n",
       "      <td>2</td>\n",
       "      <td>2.0</td>\n",
       "      <td>4.0</td>\n",
       "    </tr>\n",
       "    <tr>\n",
       "      <th>3</th>\n",
       "      <td>2024-01-10</td>\n",
       "      <td>Beverage</td>\n",
       "      <td>Latte</td>\n",
       "      <td>C001</td>\n",
       "      <td>3</td>\n",
       "      <td>3.5</td>\n",
       "      <td>10.5</td>\n",
       "    </tr>\n",
       "    <tr>\n",
       "      <th>4</th>\n",
       "      <td>2024-01-09</td>\n",
       "      <td>Beverage</td>\n",
       "      <td>Latte</td>\n",
       "      <td>C003</td>\n",
       "      <td>1</td>\n",
       "      <td>3.5</td>\n",
       "      <td>3.5</td>\n",
       "    </tr>\n",
       "    <tr>\n",
       "      <th>5</th>\n",
       "      <td>2024-01-08</td>\n",
       "      <td>Food</td>\n",
       "      <td>Muffin</td>\n",
       "      <td>C002</td>\n",
       "      <td>1</td>\n",
       "      <td>2.5</td>\n",
       "      <td>2.5</td>\n",
       "    </tr>\n",
       "  </tbody>\n",
       "</table>\n",
       "</div>"
      ],
      "text/plain": [
       "         Date  Category     Product Customer_id  Quantity  UnitPrice  Revenue\n",
       "0  2024-01-01  Beverage  Cappuccino        C004         1        3.0      3.0\n",
       "1  2024-01-02      Food   Croissant        C002         2        2.0      4.0\n",
       "2  2024-01-03  Beverage    Espresso        C001         2        2.0      4.0\n",
       "3  2024-01-10  Beverage       Latte        C001         3        3.5     10.5\n",
       "4  2024-01-09  Beverage       Latte        C003         1        3.5      3.5\n",
       "5  2024-01-08      Food      Muffin        C002         1        2.5      2.5"
      ]
     },
     "execution_count": 17,
     "metadata": {},
     "output_type": "execute_result"
    }
   ],
   "source": [
    "df"
   ]
  },
  {
   "cell_type": "markdown",
   "id": "2b3f98d0",
   "metadata": {},
   "source": [
    "## What is the syntax to find Categorical wise revenue?"
   ]
  },
  {
   "cell_type": "code",
   "execution_count": 18,
   "id": "74617434",
   "metadata": {},
   "outputs": [
    {
     "data": {
      "text/plain": [
       "Category\n",
       "Beverage    21.0\n",
       "Food         6.5\n",
       "Name: Revenue, dtype: float64"
      ]
     },
     "execution_count": 18,
     "metadata": {},
     "output_type": "execute_result"
    }
   ],
   "source": [
    "df.groupby('Category')['Revenue'].sum()\n"
   ]
  },
  {
   "cell_type": "markdown",
   "id": "5c1cc203",
   "metadata": {},
   "source": [
    "## Tofind the average quantity wrt to date and product ,what is the correct syntax?"
   ]
  },
  {
   "cell_type": "code",
   "execution_count": 19,
   "id": "cd6df6ef",
   "metadata": {},
   "outputs": [
    {
     "data": {
      "text/plain": [
       "Date        Product   \n",
       "2024-01-01  Cappuccino    1.0\n",
       "2024-01-02  Croissant     2.0\n",
       "2024-01-03  Espresso      2.0\n",
       "2024-01-08  Muffin        1.0\n",
       "2024-01-09  Latte         1.0\n",
       "2024-01-10  Latte         3.0\n",
       "Name: Quantity, dtype: float64"
      ]
     },
     "execution_count": 19,
     "metadata": {},
     "output_type": "execute_result"
    }
   ],
   "source": [
    "df.groupby(['Date', 'Product'])['Quantity'].mean()"
   ]
  },
  {
   "cell_type": "markdown",
   "id": "d525de9e",
   "metadata": {},
   "source": [
    "## Categorical wise revenue for Beverage and food respectively are"
   ]
  },
  {
   "cell_type": "code",
   "execution_count": 20,
   "id": "8c23118f",
   "metadata": {},
   "outputs": [],
   "source": [
    "df['Revenue'] = df['Quantity'] * df['UnitPrice']"
   ]
  },
  {
   "cell_type": "code",
   "execution_count": 21,
   "id": "bca819c7",
   "metadata": {},
   "outputs": [
    {
     "data": {
      "text/plain": [
       "21.0"
      ]
     },
     "execution_count": 21,
     "metadata": {},
     "output_type": "execute_result"
    }
   ],
   "source": [
    "beverage_rev = df[df['Category'] == 'Beverage']['Revenue'].sum()\n",
    "beverage_rev"
   ]
  },
  {
   "cell_type": "code",
   "execution_count": 22,
   "id": "4a453817",
   "metadata": {},
   "outputs": [
    {
     "data": {
      "text/plain": [
       "6.5"
      ]
     },
     "execution_count": 22,
     "metadata": {},
     "output_type": "execute_result"
    }
   ],
   "source": [
    "food_rev = df[df['Category'] == 'Food']['Revenue'].sum()\n",
    "food_rev"
   ]
  },
  {
   "cell_type": "markdown",
   "id": "c1b59eb7",
   "metadata": {},
   "source": [
    "## 20. Using transform ,what is the syntax to create a column which has a unitprice difference wrt its category  mean?"
   ]
  },
  {
   "cell_type": "code",
   "execution_count": 23,
   "id": "a4171db7",
   "metadata": {},
   "outputs": [
    {
     "data": {
      "text/plain": [
       "0    0.00\n",
       "1   -0.25\n",
       "2   -1.00\n",
       "3    0.50\n",
       "4    0.50\n",
       "5    0.25\n",
       "Name: UnitPrice, dtype: float64"
      ]
     },
     "execution_count": 23,
     "metadata": {},
     "output_type": "execute_result"
    }
   ],
   "source": [
    "df.groupby('Category')['UnitPrice'].transform(lambda x: x - x.mean())"
   ]
  },
  {
   "cell_type": "markdown",
   "id": "afafdc20",
   "metadata": {},
   "source": [
    "## 21. What is the correct syntax to get data wrt 'Monday'?"
   ]
  },
  {
   "cell_type": "code",
   "execution_count": 24,
   "id": "9575acfd",
   "metadata": {},
   "outputs": [],
   "source": [
    "df['Date'] = pd.to_datetime(df['Date'])"
   ]
  },
  {
   "cell_type": "code",
   "execution_count": 25,
   "id": "f6b70abb",
   "metadata": {},
   "outputs": [
    {
     "data": {
      "text/html": [
       "<div>\n",
       "<style scoped>\n",
       "    .dataframe tbody tr th:only-of-type {\n",
       "        vertical-align: middle;\n",
       "    }\n",
       "\n",
       "    .dataframe tbody tr th {\n",
       "        vertical-align: top;\n",
       "    }\n",
       "\n",
       "    .dataframe thead th {\n",
       "        text-align: right;\n",
       "    }\n",
       "</style>\n",
       "<table border=\"1\" class=\"dataframe\">\n",
       "  <thead>\n",
       "    <tr style=\"text-align: right;\">\n",
       "      <th></th>\n",
       "      <th>Date</th>\n",
       "      <th>Category</th>\n",
       "      <th>Product</th>\n",
       "      <th>Customer_id</th>\n",
       "      <th>Quantity</th>\n",
       "      <th>UnitPrice</th>\n",
       "      <th>Revenue</th>\n",
       "    </tr>\n",
       "  </thead>\n",
       "  <tbody>\n",
       "    <tr>\n",
       "      <th>0</th>\n",
       "      <td>2024-01-01</td>\n",
       "      <td>Beverage</td>\n",
       "      <td>Cappuccino</td>\n",
       "      <td>C004</td>\n",
       "      <td>1</td>\n",
       "      <td>3.0</td>\n",
       "      <td>3.0</td>\n",
       "    </tr>\n",
       "    <tr>\n",
       "      <th>5</th>\n",
       "      <td>2024-01-08</td>\n",
       "      <td>Food</td>\n",
       "      <td>Muffin</td>\n",
       "      <td>C002</td>\n",
       "      <td>1</td>\n",
       "      <td>2.5</td>\n",
       "      <td>2.5</td>\n",
       "    </tr>\n",
       "  </tbody>\n",
       "</table>\n",
       "</div>"
      ],
      "text/plain": [
       "        Date  Category     Product Customer_id  Quantity  UnitPrice  Revenue\n",
       "0 2024-01-01  Beverage  Cappuccino        C004         1        3.0      3.0\n",
       "5 2024-01-08      Food      Muffin        C002         1        2.5      2.5"
      ]
     },
     "execution_count": 25,
     "metadata": {},
     "output_type": "execute_result"
    }
   ],
   "source": [
    "df.groupby(df.Date.dt.day_name()).get_group('Monday')"
   ]
  },
  {
   "cell_type": "markdown",
   "id": "3d0856cb",
   "metadata": {},
   "source": [
    "## 22. which of the following statement is/are True?"
   ]
  },
  {
   "cell_type": "markdown",
   "id": "745cf8c1",
   "metadata": {},
   "source": [
    "a) apply() can be applied on rows\n",
    "\n",
    "b) Apply function can't be applied on rows\n",
    "\n",
    "c)Apply applies the function on the entire series at a time\n",
    "\n",
    "d)Apply applies the function one cell at a time"
   ]
  },
  {
   "cell_type": "markdown",
   "id": "058a5d02",
   "metadata": {},
   "source": [
    "### a) apply() can be applied on rows\n",
    "### c)Apply applies the function on the entire series at a time"
   ]
  },
  {
   "cell_type": "markdown",
   "id": "e67dc6bb",
   "metadata": {},
   "source": [
    "* The apply() function in pandas can be used to apply a function along the axis of a DataFrame or Series. By default, if you apply it to a Series, it operates on each element of the Series. If you apply it to a DataFrame, you can specify whether the function should be applied to rows (axis=0) or columns (axis=1).\n",
    "\n",
    "* apply() can be applied on rows if you set the axis parameter accordingly."
   ]
  },
  {
   "cell_type": "markdown",
   "id": "de87d3a8",
   "metadata": {},
   "source": [
    "## 23. Which of the following statement is/are True ?"
   ]
  },
  {
   "cell_type": "markdown",
   "id": "de11fb6b",
   "metadata": {},
   "source": [
    "a) Map applies the functionality on the entire DataFrame\n",
    "\n",
    "b)Applymap applies the functionality on series  be it row or a column\n",
    "\n",
    "c) Apply and map are vectorized applications\n",
    "\n",
    "d) None of the above"
   ]
  },
  {
   "cell_type": "markdown",
   "id": "3c094c75",
   "metadata": {},
   "source": [
    "#### d.None of the above"
   ]
  },
  {
   "cell_type": "code",
   "execution_count": 26,
   "id": "f8b2250e",
   "metadata": {},
   "outputs": [
    {
     "data": {
      "text/html": [
       "<div>\n",
       "<style scoped>\n",
       "    .dataframe tbody tr th:only-of-type {\n",
       "        vertical-align: middle;\n",
       "    }\n",
       "\n",
       "    .dataframe tbody tr th {\n",
       "        vertical-align: top;\n",
       "    }\n",
       "\n",
       "    .dataframe thead th {\n",
       "        text-align: right;\n",
       "    }\n",
       "</style>\n",
       "<table border=\"1\" class=\"dataframe\">\n",
       "  <thead>\n",
       "    <tr style=\"text-align: right;\">\n",
       "      <th></th>\n",
       "      <th>Date</th>\n",
       "      <th>Region</th>\n",
       "      <th>Salesperson</th>\n",
       "      <th>Product</th>\n",
       "      <th>Quantity</th>\n",
       "      <th>UnitPrice</th>\n",
       "    </tr>\n",
       "  </thead>\n",
       "  <tbody>\n",
       "    <tr>\n",
       "      <th>0</th>\n",
       "      <td>2024-01-10</td>\n",
       "      <td>North</td>\n",
       "      <td>Ajay</td>\n",
       "      <td>Notebook</td>\n",
       "      <td>5</td>\n",
       "      <td>12</td>\n",
       "    </tr>\n",
       "    <tr>\n",
       "      <th>1</th>\n",
       "      <td>2024-01-11</td>\n",
       "      <td>South</td>\n",
       "      <td>Balu</td>\n",
       "      <td>Pen</td>\n",
       "      <td>10</td>\n",
       "      <td>3</td>\n",
       "    </tr>\n",
       "    <tr>\n",
       "      <th>2</th>\n",
       "      <td>2024-01-10</td>\n",
       "      <td>East</td>\n",
       "      <td>Chirag</td>\n",
       "      <td>Notebook</td>\n",
       "      <td>7</td>\n",
       "      <td>12</td>\n",
       "    </tr>\n",
       "    <tr>\n",
       "      <th>3</th>\n",
       "      <td>2024-01-12</td>\n",
       "      <td>West</td>\n",
       "      <td>Ajay</td>\n",
       "      <td>Pen</td>\n",
       "      <td>15</td>\n",
       "      <td>3</td>\n",
       "    </tr>\n",
       "    <tr>\n",
       "      <th>4</th>\n",
       "      <td>2024-01-11</td>\n",
       "      <td>North</td>\n",
       "      <td>Balu</td>\n",
       "      <td>Binder</td>\n",
       "      <td>20</td>\n",
       "      <td>5</td>\n",
       "    </tr>\n",
       "    <tr>\n",
       "      <th>5</th>\n",
       "      <td>2024-01-12</td>\n",
       "      <td>East</td>\n",
       "      <td>Chiraj</td>\n",
       "      <td>Binder</td>\n",
       "      <td>10</td>\n",
       "      <td>5</td>\n",
       "    </tr>\n",
       "  </tbody>\n",
       "</table>\n",
       "</div>"
      ],
      "text/plain": [
       "         Date Region Salesperson   Product  Quantity  UnitPrice\n",
       "0  2024-01-10  North        Ajay  Notebook         5         12\n",
       "1  2024-01-11  South        Balu       Pen        10          3\n",
       "2  2024-01-10   East      Chirag  Notebook         7         12\n",
       "3  2024-01-12   West        Ajay       Pen        15          3\n",
       "4  2024-01-11  North        Balu    Binder        20          5\n",
       "5  2024-01-12   East      Chiraj    Binder        10          5"
      ]
     },
     "execution_count": 26,
     "metadata": {},
     "output_type": "execute_result"
    }
   ],
   "source": [
    "\n",
    "data = {\n",
    "    'Date': ['2024-01-10', '2024-01-11', '2024-01-10','2024-01-12','2024-01-11','2024-01-12'],\n",
    "    'Region': ['North', 'South', 'East','West','North','East'],\n",
    "    'Salesperson': ['Ajay', 'Balu', 'Chirag','Ajay','Balu','Chiraj'],\n",
    "    'Product': ['Notebook', 'Pen', 'Notebook','Pen','Binder','Binder'],\n",
    "    'Quantity': [5, 10, 7,15,20,10],\n",
    "    'UnitPrice': [12, 3, 12,3,5,5]\n",
    "}\n",
    "\n",
    "df1= pd.DataFrame(data)\n",
    "\n",
    "df1\n"
   ]
  },
  {
   "cell_type": "markdown",
   "id": "de8b81d6",
   "metadata": {},
   "source": [
    "## 24. what is the syntax to create a pivot table with index as North  and south and columns as product where values are sun of Quantities sold?"
   ]
  },
  {
   "cell_type": "code",
   "execution_count": 27,
   "id": "3dd8c2d5",
   "metadata": {},
   "outputs": [
    {
     "data": {
      "text/html": [
       "<div>\n",
       "<style scoped>\n",
       "    .dataframe tbody tr th:only-of-type {\n",
       "        vertical-align: middle;\n",
       "    }\n",
       "\n",
       "    .dataframe tbody tr th {\n",
       "        vertical-align: top;\n",
       "    }\n",
       "\n",
       "    .dataframe thead th {\n",
       "        text-align: right;\n",
       "    }\n",
       "</style>\n",
       "<table border=\"1\" class=\"dataframe\">\n",
       "  <thead>\n",
       "    <tr style=\"text-align: right;\">\n",
       "      <th>Region</th>\n",
       "      <th>North</th>\n",
       "      <th>South</th>\n",
       "    </tr>\n",
       "    <tr>\n",
       "      <th>Product</th>\n",
       "      <th></th>\n",
       "      <th></th>\n",
       "    </tr>\n",
       "  </thead>\n",
       "  <tbody>\n",
       "    <tr>\n",
       "      <th>Binder</th>\n",
       "      <td>20.0</td>\n",
       "      <td>NaN</td>\n",
       "    </tr>\n",
       "    <tr>\n",
       "      <th>Notebook</th>\n",
       "      <td>5.0</td>\n",
       "      <td>NaN</td>\n",
       "    </tr>\n",
       "    <tr>\n",
       "      <th>Pen</th>\n",
       "      <td>NaN</td>\n",
       "      <td>10.0</td>\n",
       "    </tr>\n",
       "  </tbody>\n",
       "</table>\n",
       "</div>"
      ],
      "text/plain": [
       "Region    North  South\n",
       "Product               \n",
       "Binder     20.0    NaN\n",
       "Notebook    5.0    NaN\n",
       "Pen         NaN   10.0"
      ]
     },
     "execution_count": 27,
     "metadata": {},
     "output_type": "execute_result"
    }
   ],
   "source": [
    "df1[df1['Region'].isin(['North', 'South'])].pivot_table(index='Product', columns='Region', values='Quantity', aggfunc='sum')"
   ]
  },
  {
   "cell_type": "code",
   "execution_count": 28,
   "id": "6feee707",
   "metadata": {},
   "outputs": [
    {
     "data": {
      "text/html": [
       "<div>\n",
       "<style scoped>\n",
       "    .dataframe tbody tr th:only-of-type {\n",
       "        vertical-align: middle;\n",
       "    }\n",
       "\n",
       "    .dataframe tbody tr th {\n",
       "        vertical-align: top;\n",
       "    }\n",
       "\n",
       "    .dataframe thead th {\n",
       "        text-align: right;\n",
       "    }\n",
       "</style>\n",
       "<table border=\"1\" class=\"dataframe\">\n",
       "  <thead>\n",
       "    <tr style=\"text-align: right;\">\n",
       "      <th>Region</th>\n",
       "      <th>North</th>\n",
       "      <th>South</th>\n",
       "    </tr>\n",
       "    <tr>\n",
       "      <th>Product</th>\n",
       "      <th></th>\n",
       "      <th></th>\n",
       "    </tr>\n",
       "  </thead>\n",
       "  <tbody>\n",
       "    <tr>\n",
       "      <th>Binder</th>\n",
       "      <td>20.0</td>\n",
       "      <td>NaN</td>\n",
       "    </tr>\n",
       "    <tr>\n",
       "      <th>Notebook</th>\n",
       "      <td>5.0</td>\n",
       "      <td>NaN</td>\n",
       "    </tr>\n",
       "    <tr>\n",
       "      <th>Pen</th>\n",
       "      <td>NaN</td>\n",
       "      <td>10.0</td>\n",
       "    </tr>\n",
       "  </tbody>\n",
       "</table>\n",
       "</div>"
      ],
      "text/plain": [
       "Region    North  South\n",
       "Product               \n",
       "Binder     20.0    NaN\n",
       "Notebook    5.0    NaN\n",
       "Pen         NaN   10.0"
      ]
     },
     "execution_count": 28,
     "metadata": {},
     "output_type": "execute_result"
    }
   ],
   "source": [
    "df1[(df1['Region'] == 'North') | (df1['Region'] == 'South')].pivot_table(index='Product',columns='Region',values='Quantity',aggfunc='sum')"
   ]
  },
  {
   "cell_type": "markdown",
   "id": "e9a914b0",
   "metadata": {},
   "source": [
    "## 25.Which of the following  statement is /are True?\n",
    "a) .iloc method includes include the last element when used for slicing\n",
    "\n",
    "b).loc mrthod doesnot includes the last element when used fo slicing\n",
    "\n",
    "c)We can use .loc method and pass default integer index of row when slicing \n",
    "\n",
    "d)None of above"
   ]
  },
  {
   "cell_type": "markdown",
   "id": "48e973f8",
   "metadata": {},
   "source": [
    "##### c) We can use .loc method and pass the default integer index of the row when slicing.\n",
    "\n",
    "* The .loc method can be used with the default integer index of the row when slicing. \n",
    "* For example, df.loc[0:3] would select rows with index 0, 1, 2, and 3."
   ]
  },
  {
   "cell_type": "markdown",
   "id": "7dddbf6a",
   "metadata": {},
   "source": [
    "## 26. using a pivot table is it possible to create a multi index dataframe ,if so what is  the syntax to have a multi index of data and Region  with total Product sold as value"
   ]
  },
  {
   "cell_type": "code",
   "execution_count": 45,
   "id": "7c292fa5",
   "metadata": {},
   "outputs": [
    {
     "data": {
      "text/html": [
       "<div>\n",
       "<style scoped>\n",
       "    .dataframe tbody tr th:only-of-type {\n",
       "        vertical-align: middle;\n",
       "    }\n",
       "\n",
       "    .dataframe tbody tr th {\n",
       "        vertical-align: top;\n",
       "    }\n",
       "\n",
       "    .dataframe thead th {\n",
       "        text-align: right;\n",
       "    }\n",
       "</style>\n",
       "<table border=\"1\" class=\"dataframe\">\n",
       "  <thead>\n",
       "    <tr style=\"text-align: right;\">\n",
       "      <th></th>\n",
       "      <th>Product</th>\n",
       "      <th>Binder</th>\n",
       "      <th>Notebook</th>\n",
       "      <th>Pen</th>\n",
       "    </tr>\n",
       "    <tr>\n",
       "      <th>Date</th>\n",
       "      <th>Region</th>\n",
       "      <th></th>\n",
       "      <th></th>\n",
       "      <th></th>\n",
       "    </tr>\n",
       "  </thead>\n",
       "  <tbody>\n",
       "    <tr>\n",
       "      <th rowspan=\"2\" valign=\"top\">2024-01-10</th>\n",
       "      <th>East</th>\n",
       "      <td>NaN</td>\n",
       "      <td>7.0</td>\n",
       "      <td>NaN</td>\n",
       "    </tr>\n",
       "    <tr>\n",
       "      <th>North</th>\n",
       "      <td>NaN</td>\n",
       "      <td>5.0</td>\n",
       "      <td>NaN</td>\n",
       "    </tr>\n",
       "    <tr>\n",
       "      <th rowspan=\"2\" valign=\"top\">2024-01-11</th>\n",
       "      <th>North</th>\n",
       "      <td>20.0</td>\n",
       "      <td>NaN</td>\n",
       "      <td>NaN</td>\n",
       "    </tr>\n",
       "    <tr>\n",
       "      <th>South</th>\n",
       "      <td>NaN</td>\n",
       "      <td>NaN</td>\n",
       "      <td>10.0</td>\n",
       "    </tr>\n",
       "    <tr>\n",
       "      <th rowspan=\"2\" valign=\"top\">2024-01-12</th>\n",
       "      <th>East</th>\n",
       "      <td>10.0</td>\n",
       "      <td>NaN</td>\n",
       "      <td>NaN</td>\n",
       "    </tr>\n",
       "    <tr>\n",
       "      <th>West</th>\n",
       "      <td>NaN</td>\n",
       "      <td>NaN</td>\n",
       "      <td>15.0</td>\n",
       "    </tr>\n",
       "  </tbody>\n",
       "</table>\n",
       "</div>"
      ],
      "text/plain": [
       "Product            Binder  Notebook   Pen\n",
       "Date       Region                        \n",
       "2024-01-10 East       NaN       7.0   NaN\n",
       "           North      NaN       5.0   NaN\n",
       "2024-01-11 North     20.0       NaN   NaN\n",
       "           South      NaN       NaN  10.0\n",
       "2024-01-12 East      10.0       NaN   NaN\n",
       "           West       NaN       NaN  15.0"
      ]
     },
     "execution_count": 45,
     "metadata": {},
     "output_type": "execute_result"
    }
   ],
   "source": [
    "df1.pivot_table(index=['Date', 'Region'], columns='Product', values='Quantity', aggfunc='sum')"
   ]
  },
  {
   "cell_type": "markdown",
   "id": "c069c0b2",
   "metadata": {},
   "source": [
    "## 27. what does the margins parameter in the pivot_table() function allowyou to include in the pivot table?"
   ]
  },
  {
   "cell_type": "markdown",
   "id": "8b53aeca",
   "metadata": {},
   "source": [
    "a) Additional margins and subtotals for rows and columns\n",
    "\n",
    "b) A list of column name to exclude from to pivot table\n",
    "\n",
    "c) The number of rows and columns to skip at the beginning of the pivot table\n",
    "\n",
    "d)The maximum number of rows and columns to display in the pivot table"
   ]
  },
  {
   "cell_type": "markdown",
   "id": "b2cea845",
   "metadata": {},
   "source": [
    "#### a) Additional margins and subtotals for rows and columns\n",
    "\n",
    "* The margins parameter in the pivot_table() function allows you to include additional margins and subtotals for rows and  columns in the resulting pivot table.\n"
   ]
  },
  {
   "cell_type": "code",
   "execution_count": 31,
   "id": "a7dec24c",
   "metadata": {},
   "outputs": [],
   "source": [
    "import numpy as np"
   ]
  },
  {
   "cell_type": "code",
   "execution_count": 46,
   "id": "312b9ebe",
   "metadata": {},
   "outputs": [],
   "source": [
    "data = {\n",
    "    'Fruits': ['apple', 'banana', 'apple', 'apple', 'banana', 'apple', 'kiwi',\n",
    "               'kiwi', 'banana', 'apple', 'kiwi', 'apple', 'banana', 'grape',\n",
    "               'apple', 'banana', 'apple', 'apple', 'apple'],\n",
    "    'Price': [np.nan, np.nan, 205, 200, 40, 210, 300, 320, np.nan, 180, 350,np.nan, 35, np.nan, 215, 40, np.nan, np.nan, np.nan]\n",
    "}\n",
    "\n",
    "df2 = pd.DataFrame(data)"
   ]
  },
  {
   "cell_type": "code",
   "execution_count": 47,
   "id": "196352a3",
   "metadata": {},
   "outputs": [
    {
     "data": {
      "text/html": [
       "<div>\n",
       "<style scoped>\n",
       "    .dataframe tbody tr th:only-of-type {\n",
       "        vertical-align: middle;\n",
       "    }\n",
       "\n",
       "    .dataframe tbody tr th {\n",
       "        vertical-align: top;\n",
       "    }\n",
       "\n",
       "    .dataframe thead th {\n",
       "        text-align: right;\n",
       "    }\n",
       "</style>\n",
       "<table border=\"1\" class=\"dataframe\">\n",
       "  <thead>\n",
       "    <tr style=\"text-align: right;\">\n",
       "      <th></th>\n",
       "      <th>Fruits</th>\n",
       "      <th>Price</th>\n",
       "    </tr>\n",
       "  </thead>\n",
       "  <tbody>\n",
       "    <tr>\n",
       "      <th>0</th>\n",
       "      <td>apple</td>\n",
       "      <td>NaN</td>\n",
       "    </tr>\n",
       "    <tr>\n",
       "      <th>1</th>\n",
       "      <td>banana</td>\n",
       "      <td>NaN</td>\n",
       "    </tr>\n",
       "    <tr>\n",
       "      <th>2</th>\n",
       "      <td>apple</td>\n",
       "      <td>205.0</td>\n",
       "    </tr>\n",
       "    <tr>\n",
       "      <th>3</th>\n",
       "      <td>apple</td>\n",
       "      <td>200.0</td>\n",
       "    </tr>\n",
       "    <tr>\n",
       "      <th>4</th>\n",
       "      <td>banana</td>\n",
       "      <td>40.0</td>\n",
       "    </tr>\n",
       "    <tr>\n",
       "      <th>5</th>\n",
       "      <td>apple</td>\n",
       "      <td>210.0</td>\n",
       "    </tr>\n",
       "    <tr>\n",
       "      <th>6</th>\n",
       "      <td>kiwi</td>\n",
       "      <td>300.0</td>\n",
       "    </tr>\n",
       "    <tr>\n",
       "      <th>7</th>\n",
       "      <td>kiwi</td>\n",
       "      <td>320.0</td>\n",
       "    </tr>\n",
       "    <tr>\n",
       "      <th>8</th>\n",
       "      <td>banana</td>\n",
       "      <td>NaN</td>\n",
       "    </tr>\n",
       "    <tr>\n",
       "      <th>9</th>\n",
       "      <td>apple</td>\n",
       "      <td>180.0</td>\n",
       "    </tr>\n",
       "    <tr>\n",
       "      <th>10</th>\n",
       "      <td>kiwi</td>\n",
       "      <td>350.0</td>\n",
       "    </tr>\n",
       "    <tr>\n",
       "      <th>11</th>\n",
       "      <td>apple</td>\n",
       "      <td>NaN</td>\n",
       "    </tr>\n",
       "    <tr>\n",
       "      <th>12</th>\n",
       "      <td>banana</td>\n",
       "      <td>35.0</td>\n",
       "    </tr>\n",
       "    <tr>\n",
       "      <th>13</th>\n",
       "      <td>grape</td>\n",
       "      <td>NaN</td>\n",
       "    </tr>\n",
       "    <tr>\n",
       "      <th>14</th>\n",
       "      <td>apple</td>\n",
       "      <td>215.0</td>\n",
       "    </tr>\n",
       "    <tr>\n",
       "      <th>15</th>\n",
       "      <td>banana</td>\n",
       "      <td>40.0</td>\n",
       "    </tr>\n",
       "    <tr>\n",
       "      <th>16</th>\n",
       "      <td>apple</td>\n",
       "      <td>NaN</td>\n",
       "    </tr>\n",
       "    <tr>\n",
       "      <th>17</th>\n",
       "      <td>apple</td>\n",
       "      <td>NaN</td>\n",
       "    </tr>\n",
       "    <tr>\n",
       "      <th>18</th>\n",
       "      <td>apple</td>\n",
       "      <td>NaN</td>\n",
       "    </tr>\n",
       "  </tbody>\n",
       "</table>\n",
       "</div>"
      ],
      "text/plain": [
       "    Fruits  Price\n",
       "0    apple    NaN\n",
       "1   banana    NaN\n",
       "2    apple  205.0\n",
       "3    apple  200.0\n",
       "4   banana   40.0\n",
       "5    apple  210.0\n",
       "6     kiwi  300.0\n",
       "7     kiwi  320.0\n",
       "8   banana    NaN\n",
       "9    apple  180.0\n",
       "10    kiwi  350.0\n",
       "11   apple    NaN\n",
       "12  banana   35.0\n",
       "13   grape    NaN\n",
       "14   apple  215.0\n",
       "15  banana   40.0\n",
       "16   apple    NaN\n",
       "17   apple    NaN\n",
       "18   apple    NaN"
      ]
     },
     "execution_count": 47,
     "metadata": {},
     "output_type": "execute_result"
    }
   ],
   "source": [
    "df2"
   ]
  },
  {
   "cell_type": "markdown",
   "id": "894ee544",
   "metadata": {},
   "source": [
    "## 28 . if we choose to impute missing value in  Price  col by chaining ffill() and bfill() while limiting the imputation to 1,1 respectively ,how many missing values will be left post imputation"
   ]
  },
  {
   "cell_type": "code",
   "execution_count": 48,
   "id": "fe6ae4be",
   "metadata": {},
   "outputs": [],
   "source": [
    "df2['Price'] = df2['Price'].ffill(limit=1).bfill(limit=1)"
   ]
  },
  {
   "cell_type": "code",
   "execution_count": 49,
   "id": "cc828156",
   "metadata": {},
   "outputs": [
    {
     "data": {
      "text/plain": [
       "3"
      ]
     },
     "execution_count": 49,
     "metadata": {},
     "output_type": "execute_result"
    }
   ],
   "source": [
    "rmv = df2['Price'].isnull().sum()\n",
    "rmv"
   ]
  },
  {
   "cell_type": "markdown",
   "id": "06abee3e",
   "metadata": {},
   "source": [
    "## 29.What kind of missing values handling technique is appropriate for df2?"
   ]
  },
  {
   "cell_type": "markdown",
   "id": "1def9045",
   "metadata": {},
   "source": [
    "a) Imputing Price col with Price's mean\n",
    "\n",
    "b) Imputing Price col with Price's median\n",
    "\n",
    "c)Imputing Price col with  individual friuts'Price median\n",
    "\n",
    "d)Dropping missing values"
   ]
  },
  {
   "cell_type": "markdown",
   "id": "a637b872",
   "metadata": {},
   "source": [
    "##### (c) Imputing Price col with individual fruits' Price median\n",
    "\n",
    "##### d)Dropping missing values"
   ]
  },
  {
   "cell_type": "markdown",
   "id": "89f8229c",
   "metadata": {},
   "source": [
    "## 30 If we choose to impute missing values in Price col by with individual Fruits'Price's mean ,how many missing values will be post imputation"
   ]
  },
  {
   "cell_type": "code",
   "execution_count": 51,
   "id": "4e8d6bd0",
   "metadata": {},
   "outputs": [
    {
     "data": {
      "text/plain": [
       "0"
      ]
     },
     "execution_count": 51,
     "metadata": {},
     "output_type": "execute_result"
    }
   ],
   "source": [
    "df2['Price'] = df2.groupby('Fruits')['Price'].transform(lambda x: x.fillna(x.mean()))\n",
    "df2['Price'].isnull().sum()"
   ]
  },
  {
   "cell_type": "code",
   "execution_count": null,
   "id": "fae6b8a1",
   "metadata": {},
   "outputs": [],
   "source": []
  },
  {
   "cell_type": "markdown",
   "id": "cc9e5c33",
   "metadata": {},
   "source": [
    "## 31.if  a=pd.Series([np.nan,1,2,np.nan,np.nan,np.nan,np.nan,4,5,7]) what  will be  the output of a.interpolate"
   ]
  },
  {
   "cell_type": "markdown",
   "id": "9fddf9fe",
   "metadata": {},
   "source": [
    "The interpolate function in pandas is used to fill NaN values using various interpolation methods"
   ]
  },
  {
   "cell_type": "code",
   "execution_count": null,
   "id": "9f5f5377",
   "metadata": {},
   "outputs": [],
   "source": [
    "a=pd.Series([np.nan,1,2,np.nan,np.nan,np.nan,np.nan,4,5,7])"
   ]
  },
  {
   "cell_type": "code",
   "execution_count": null,
   "id": "c2a54a68",
   "metadata": {},
   "outputs": [],
   "source": [
    "a.interpolate()"
   ]
  },
  {
   "cell_type": "markdown",
   "id": "9bfa6fbc",
   "metadata": {},
   "source": [
    "## what is the use of the normalization parameter in the crosstab method of pandas?"
   ]
  },
  {
   "cell_type": "markdown",
   "id": "16d98ce7",
   "metadata": {},
   "source": [
    "a) it used to normalize values by dividing them by the total count\n",
    "\n",
    "b)to add margins\n",
    "\n",
    "c) there is no parameter called as normalize in crosstab\n",
    "\n",
    "d)both a & c"
   ]
  },
  {
   "cell_type": "markdown",
   "id": "2aa8b57e",
   "metadata": {},
   "source": [
    "### a) It is used to normalize values by dividing them by the total count"
   ]
  },
  {
   "cell_type": "markdown",
   "id": "4bb4067f",
   "metadata": {},
   "source": [
    "The normalize parameter in the crosstab method of pandas allows you to normalize the values in the resulting cross-tabulation by dividing them by the total count. This is useful for obtaining relative frequencies or percentages instead of raw counts"
   ]
  }
 ],
 "metadata": {
  "kernelspec": {
   "display_name": "Python 3 (ipykernel)",
   "language": "python",
   "name": "python3"
  },
  "language_info": {
   "codemirror_mode": {
    "name": "ipython",
    "version": 3
   },
   "file_extension": ".py",
   "mimetype": "text/x-python",
   "name": "python",
   "nbconvert_exporter": "python",
   "pygments_lexer": "ipython3",
   "version": "3.9.13"
  }
 },
 "nbformat": 4,
 "nbformat_minor": 5
}
