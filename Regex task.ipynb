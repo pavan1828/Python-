{
 "cells": [
  {
   "cell_type": "code",
   "execution_count": 2,
   "id": "97e846d5",
   "metadata": {},
   "outputs": [],
   "source": [
    "import regex as re"
   ]
  },
  {
   "cell_type": "code",
   "execution_count": 75,
   "id": "51052ba7",
   "metadata": {},
   "outputs": [],
   "source": [
    "with open(r'C:/Users/pc/Downloads/names.txt', 'r') as file:\n",
    "    name = file.read()"
   ]
  },
  {
   "cell_type": "code",
   "execution_count": 76,
   "id": "efd5f9d8",
   "metadata": {},
   "outputs": [
    {
     "data": {
      "text/plain": [
       "'terribleSnail\\nabc123\\ncondemnedInstructor\\nmesssage\\nkeep_it_simple_stupid\\nZoran L Fang\\nmyUsername210\\nabc\\nasdf\\njoshy\\nHank Lazowska\\n123feralHog\\nRed Panda5\\n1\\nabc1\\nDIRT\\n*star*\\noshie poshy\\n0shie p0shy\\nOSHIE POSHY\\nO Posh\\nOshie poshy\\noshie Poshy\\n'"
      ]
     },
     "execution_count": 76,
     "metadata": {},
     "output_type": "execute_result"
    }
   ],
   "source": [
    "name"
   ]
  },
  {
   "cell_type": "code",
   "execution_count": 77,
   "id": "9eb6af90",
   "metadata": {},
   "outputs": [
    {
     "name": "stdout",
     "output_type": "stream",
     "text": [
      "terribleSnail\n",
      "abc123\n",
      "condemnedInstructor\n",
      "messsage\n",
      "keep_it_simple_stupid\n",
      "Zoran L Fang\n",
      "myUsername210\n",
      "abc\n",
      "asdf\n",
      "joshy\n",
      "Hank Lazowska\n",
      "123feralHog\n",
      "Red Panda5\n",
      "1\n",
      "abc1\n",
      "DIRT\n",
      "*star*\n",
      "oshie poshy\n",
      "0shie p0shy\n",
      "OSHIE POSHY\n",
      "O Posh\n",
      "Oshie poshy\n",
      "oshie Poshy\n",
      "\n"
     ]
    }
   ],
   "source": [
    "print(name)"
   ]
  },
  {
   "cell_type": "markdown",
   "id": "99b1ced8",
   "metadata": {},
   "source": [
    "**Problem 1\n",
    "Write the command that finds all usernames from names.txt that contain at least one numeric character.**"
   ]
  },
  {
   "cell_type": "code",
   "execution_count": 5,
   "id": "00c237fa",
   "metadata": {},
   "outputs": [],
   "source": [
    "pat=r'\\w*\\d+\\w*'"
   ]
  },
  {
   "cell_type": "code",
   "execution_count": 6,
   "id": "777d2c94",
   "metadata": {},
   "outputs": [
    {
     "data": {
      "text/plain": [
       "['abc123',\n",
       " 'myUsername210',\n",
       " '123feralHog',\n",
       " 'Panda5',\n",
       " '1',\n",
       " 'abc1',\n",
       " '0shie',\n",
       " 'p0shy']"
      ]
     },
     "execution_count": 6,
     "metadata": {},
     "output_type": "execute_result"
    }
   ],
   "source": [
    "re.findall(pat,name)"
   ]
  },
  {
   "cell_type": "code",
   "execution_count": 7,
   "id": "8a0b7aaf",
   "metadata": {},
   "outputs": [],
   "source": [
    "pat=r'\\b[a-zA-Z]*[0-9]+[a-zA-Z]*\\b'"
   ]
  },
  {
   "cell_type": "code",
   "execution_count": 8,
   "id": "b796cf84",
   "metadata": {},
   "outputs": [
    {
     "data": {
      "text/plain": [
       "['abc123',\n",
       " 'myUsername210',\n",
       " '123feralHog',\n",
       " 'Panda5',\n",
       " '1',\n",
       " 'abc1',\n",
       " '0shie',\n",
       " 'p0shy']"
      ]
     },
     "execution_count": 8,
     "metadata": {},
     "output_type": "execute_result"
    }
   ],
   "source": [
    "re.findall(pat,name)"
   ]
  },
  {
   "cell_type": "markdown",
   "id": "6a212766",
   "metadata": {},
   "source": [
    "**Problem 2\n",
    "Write the command that finds all usernames from names.txt that are exactly 4 characters long and consist only of alphabetic characters**"
   ]
  },
  {
   "cell_type": "code",
   "execution_count": 90,
   "id": "00677623",
   "metadata": {},
   "outputs": [],
   "source": [
    "pat=r'\\b([a-zA-Z]{4})\\n\\b'"
   ]
  },
  {
   "cell_type": "code",
   "execution_count": 91,
   "id": "861969c5",
   "metadata": {},
   "outputs": [
    {
     "data": {
      "text/plain": [
       "['Fang', 'asdf', 'Posh']"
      ]
     },
     "execution_count": 91,
     "metadata": {},
     "output_type": "execute_result"
    }
   ],
   "source": [
    "re.findall(pat,name)"
   ]
  },
  {
   "cell_type": "markdown",
   "id": "a4ae1eb3",
   "metadata": {},
   "source": [
    "##### Problem 3\n",
    "**Write the command that finds all first and last names in names.txt. A name is an uppercase letter followed by one or more lowercase letters and first and last names are separated by a single space. Your command should not match against names that contain a middle name or initials.**\n"
   ]
  },
  {
   "cell_type": "code",
   "execution_count": 11,
   "id": "0fb89ac0",
   "metadata": {},
   "outputs": [],
   "source": [
    "pat=r'\\b[A-Z][a-z]+ [A-Z][a-z]+\\b'"
   ]
  },
  {
   "cell_type": "code",
   "execution_count": 12,
   "id": "0ef96414",
   "metadata": {},
   "outputs": [
    {
     "data": {
      "text/plain": [
       "['Hank Lazowska']"
      ]
     },
     "execution_count": 12,
     "metadata": {},
     "output_type": "execute_result"
    }
   ],
   "source": [
    "re.findall(pat,name)"
   ]
  },
  {
   "cell_type": "markdown",
   "id": "f52ffe43",
   "metadata": {},
   "source": [
    "# TASK 2"
   ]
  },
  {
   "cell_type": "markdown",
   "id": "53867344",
   "metadata": {},
   "source": [
    "**Problem 4:**\n",
    "\n",
    "**Email Validation**\n",
    "\n",
    "As part of account creation, customers must provide a valid email address. Write a command that prints out all valid email addresses from emails.txt. For the purposes of this assignment, we will use a simplified version of a valid email address, which is defined as follows:\n",
    "* Between 1 and 16 lowercase letters, uppercase letters, or digits\n",
    "* An @ symbol\n",
    "* A domain (e.g., gmail) that consists of any number of lowercase letters\n",
    "* A period\n",
    "* A tld (top level domain, e.g., .com) that consists of 2 or more lowercase letters\n",
    "* You may assume that emails.txt contains one email per line.\n"
   ]
  },
  {
   "cell_type": "code",
   "execution_count": 13,
   "id": "b0772d48",
   "metadata": {},
   "outputs": [],
   "source": [
    "with open(r'C:/Users/pc/Downloads/emails.txt', 'r') as file:\n",
    "    email = file.read()"
   ]
  },
  {
   "cell_type": "code",
   "execution_count": 14,
   "id": "d8d94233",
   "metadata": {},
   "outputs": [
    {
     "data": {
      "text/plain": [
       "'jle@uw.edu\\nk@gmailcom\\nhissingDonkey567@yahoo.com\\n342highground@council.com\\naszotatgmail.co\\nhopkins@apple.COM\\njustchilling@cedarrapids|com\\nperkins8@uw.com\\ncolorfulcupcake\\nfungfangfaang@agar.io\\njoshmyrealemail@imake.tools\\nasuperduperuberlongemail@miles.long\\n'"
      ]
     },
     "execution_count": 14,
     "metadata": {},
     "output_type": "execute_result"
    }
   ],
   "source": [
    "email"
   ]
  },
  {
   "cell_type": "code",
   "execution_count": 15,
   "id": "49164e6a",
   "metadata": {},
   "outputs": [],
   "source": [
    "pat=r'\\b[A-Za-z0-9]{1,16}@[a-z]+\\.[a-z]{2,}\\b'"
   ]
  },
  {
   "cell_type": "code",
   "execution_count": 16,
   "id": "06b53d79",
   "metadata": {},
   "outputs": [
    {
     "data": {
      "text/plain": [
       "['jle@uw.edu',\n",
       " 'hissingDonkey567@yahoo.com',\n",
       " '342highground@council.com',\n",
       " 'perkins8@uw.com',\n",
       " 'fungfangfaang@agar.io',\n",
       " 'joshmyrealemail@imake.tools']"
      ]
     },
     "execution_count": 16,
     "metadata": {},
     "output_type": "execute_result"
    }
   ],
   "source": [
    "re.findall(pat,email)"
   ]
  },
  {
   "cell_type": "markdown",
   "id": "6b8e5f94",
   "metadata": {},
   "source": [
    "**Problem 5:**\n",
    "\n",
    "**Password Validation**\n",
    "\n",
    "Customers also must choose a strong password when creating an account. Write a command that prints out all valid passwords in the file passwords.txt. A valid password at FAANG is defined as follows:\n",
    "\n",
    "* It must be at least 8 characters long\n",
    "* Must contain at least one uppercase character\n",
    "* Must contain at least one lowercase character\n",
    "* Must contain at least one digit.\n",
    "* You may assume that passwords.txt contains one password per line."
   ]
  },
  {
   "cell_type": "code",
   "execution_count": 69,
   "id": "fbaa3e43",
   "metadata": {},
   "outputs": [],
   "source": [
    "with open(r'C:/Users/pc/Downloads/passwords.txt', 'r') as file:\n",
    "    password= file.read()"
   ]
  },
  {
   "cell_type": "code",
   "execution_count": 70,
   "id": "2d31dbf1",
   "metadata": {},
   "outputs": [
    {
     "name": "stdout",
     "output_type": "stream",
     "text": [
      "missingAnyNumbers\n",
      "0123456\n",
      "01234567\n",
      "alllowercase\n",
      "ALLUPPERCASE\n",
      "Apples42\n",
      "orangE17\n",
      "1cupCake\n",
      "asdf\n",
      "720\n",
      "glhf56\n",
      "210afk\n",
      "\n"
     ]
    }
   ],
   "source": [
    "print(password)"
   ]
  },
  {
   "cell_type": "code",
   "execution_count": 73,
   "id": "534d5922",
   "metadata": {},
   "outputs": [
    {
     "data": {
      "text/plain": [
       "['Apples42', 'orangE17', '1cupCake']"
      ]
     },
     "execution_count": 73,
     "metadata": {},
     "output_type": "execute_result"
    }
   ],
   "source": [
    "re.findall('((?=.*[A-Za-z])(?=.*\\d)[A-Za-z\\d]{8,})',password)"
   ]
  },
  {
   "cell_type": "code",
   "execution_count": 20,
   "id": "7fe39305",
   "metadata": {},
   "outputs": [
    {
     "data": {
      "text/plain": [
       "['missingAnyNumbers',\n",
       " '01234567',\n",
       " 'alllowercase',\n",
       " 'ALLUPPERCASE',\n",
       " 'Apples42',\n",
       " 'orangE17',\n",
       " '1cupCake']"
      ]
     },
     "execution_count": 20,
     "metadata": {},
     "output_type": "execute_result"
    }
   ],
   "source": [
    "re.findall(pat,password)"
   ]
  },
  {
   "cell_type": "markdown",
   "id": "055d737c",
   "metadata": {},
   "source": [
    "### Problem 6: Credit Card validation\n",
    "\n",
    "In order to process payments for orders, FAANG needs to validate credit cards entered on the site. Since we are a small company, we will only be accepting Visa and Mastercard (sorry, American Express, your fees are too high!) Write a command that identifies all well-formatted credit cards in a file called cards.txt that FAANG accepts. \n",
    "\n",
    "\n"
   ]
  },
  {
   "cell_type": "markdown",
   "id": "e26447d3",
   "metadata": {},
   "source": [
    "**The format of these cards are as follows:**\n",
    "\n",
    "**Master Card**\n",
    "\n",
    "Begins with a 5\n",
    "\n",
    "Exactly 16 digits long, grouped into sets of 4 separated by a space\n",
    "\n"
   ]
  },
  {
   "cell_type": "code",
   "execution_count": 94,
   "id": "976a9978",
   "metadata": {},
   "outputs": [],
   "source": [
    "with open(r\"C:\\Users\\pc\\Downloads\\cards.txt\", 'r') as file:\n",
    "    cards= file.read()    "
   ]
  },
  {
   "cell_type": "code",
   "execution_count": 95,
   "id": "9d768d44",
   "metadata": {},
   "outputs": [
    {
     "data": {
      "text/plain": [
       "'5123 4567 8910 1112\\n5123456789101112\\n3908 0978 0890 7890\\n4789 2784 8910 8290\\n4989 9321 1230 9\\n5419 2933 1839 17\\n4740 1839 1281\\n4789 0870 8908 70987\\n58907890782309171\\n5192 9295 91828818\\n4182 2884 1232 9582 2182\\n'"
      ]
     },
     "execution_count": 95,
     "metadata": {},
     "output_type": "execute_result"
    }
   ],
   "source": [
    "cards"
   ]
  },
  {
   "cell_type": "code",
   "execution_count": 23,
   "id": "b8ef7d41",
   "metadata": {},
   "outputs": [],
   "source": [
    "pat=r'\\b[5]\\d{,4}\\s\\d{,4}\\s\\d{,4}\\s\\d{4}\\b'"
   ]
  },
  {
   "cell_type": "code",
   "execution_count": 24,
   "id": "ecc8b3a5",
   "metadata": {},
   "outputs": [
    {
     "data": {
      "text/plain": [
       "['5123 4567 8910 1112']"
      ]
     },
     "execution_count": 24,
     "metadata": {},
     "output_type": "execute_result"
    }
   ],
   "source": [
    "re.findall(pat,cards)"
   ]
  },
  {
   "cell_type": "markdown",
   "id": "5ff7cb8e",
   "metadata": {},
   "source": [
    "**Visa**\n",
    "\n",
    "Begins with a 4\n",
    "\n",
    "Between 13 and 16 digits long, grouped into sets of 4 (last may be shorter) separated by a space\n"
   ]
  },
  {
   "cell_type": "code",
   "execution_count": 106,
   "id": "8830c58b",
   "metadata": {},
   "outputs": [],
   "source": [
    "pat=r'^[4]\\d+\\s\\d+\\s\\d+\\s\\d{1,4}$'"
   ]
  },
  {
   "cell_type": "code",
   "execution_count": 118,
   "id": "8b63ca9b",
   "metadata": {},
   "outputs": [
    {
     "data": {
      "text/plain": [
       "[]"
      ]
     },
     "execution_count": 118,
     "metadata": {},
     "output_type": "execute_result"
    }
   ],
   "source": [
    "re.findall(r\"\\b^[4]\\d+\\s\\d+\\s\\d+\\s\\d{1,4})$\",cards)"
   ]
  },
  {
   "cell_type": "code",
   "execution_count": 120,
   "id": "056d21a9",
   "metadata": {},
   "outputs": [
    {
     "name": "stdout",
     "output_type": "stream",
     "text": [
      "['4789 2784 8910 8290']\n",
      "['4989 9321 1230 9']\n"
     ]
    }
   ],
   "source": [
    "for i in cards.splitlines():\n",
    "    regex = re.findall(r\"(^[4]\\d+\\s\\d+\\s\\d+\\s\\d{1,4})$\",i)\n",
    "    if len(regex)==1:\n",
    "        print(regex)"
   ]
  },
  {
   "cell_type": "markdown",
   "id": "e45082a2",
   "metadata": {},
   "source": [
    "## Task 3: Bash Shell Commands with to process genetic Data\n"
   ]
  },
  {
   "cell_type": "markdown",
   "id": "b4b4b03e",
   "metadata": {},
   "source": [
    "The board is concerned about FAANG’s product-market fit. As it turns out, dirt and peas (especially those not in a pod) don’t have a high market value. Therefore, in addition to continuing to sell its pre-existing products, FAANG has decided to enter the biotech space and process genomic data.\n",
    "For these problems, you will be processing DNA data from the file dna.txt. Data is printed in the file in pairs of lines. The first line in the pair is the name of the DNA sequence, and the second line is the DNA sequence itself. The following provides you with some context for the task, but an understanding of DNA is not required for this assignment.\n",
    "DNA consists of long chains of chemical compounds called nucleotides. Four nucleotides are present in DNA: Adenine (A), Cytosine (C), Guanine (G), and Thymine (T). Certain regions of the DNA are called genes. Most genes encode instructions for building proteins (they’re called “protein-coding” genes). These proteins are responsible for carrying out most of the life processes of the organism. Nucleotides in a gene are organized into codons. Codons are groups of three nucleotides and are written as the \n",
    "first letters of their nucleotides (e.g., TAC or GGA). Each codon uniquely encodes a single amino acid, a building block of proteins.\n",
    "For these problems, you will be identifying protein-encoding genes as well as other attributes of the genetic data in the file. Note that all matches for these problems will be case-insensitive.\n"
   ]
  },
  {
   "cell_type": "code",
   "execution_count": 38,
   "id": "4d736112",
   "metadata": {},
   "outputs": [],
   "source": [
    "with open(r'C:\\Users\\pc\\Downloads\\dna.txt', 'r') as file:\n",
    "    dna= file.read()    "
   ]
  },
  {
   "cell_type": "markdown",
   "id": "559bf369",
   "metadata": {},
   "source": [
    "### Problem 7\n",
    "Print all of the DNA sequences in the file (all of the non-names).\n"
   ]
  },
  {
   "cell_type": "code",
   "execution_count": 1,
   "id": "979f4da1",
   "metadata": {},
   "outputs": [],
   "source": [
    "dna =\"\"\"Simple Protein-Coding Gene\\nATGCCACTATGGTAG\\nUpper and Lowercase Protein\\nATgCCAACATGgATGCCcGATAtGGATTgA\\nValid Gene\\nATGCGACCCTAGTAG\\nInvalid Gene\\nATGCGACCCTAGTAGGG\\nAnother Protein-Coding Gene\\nATGACCGACTCAGTATAA\\nYet-Another Protein-Coding Gene\\nATGATCGACTACGATTAG\\nYet-Again-Another Protein-Coding Gene\\nATGATTGGGCCCGCTTAGTAGTGA\\nInvalid Protein-Coding Gene\\nATGACCGACTCAGTAAAT\\nAnother Invalid Protein-Coding Gene\\nATGACCGACTAG\\nYet-Another Invalid Protein-Coding Gene\\nAGGATTGGGCCCGCTTAGTAGTGA\\nFeline-Encoding DNA\\nCATCATCATCATCATCATCATCATCATCAT\\nPalindrome DNA\\nACTTCA\\nFirst And Last DNA\\nTAGACGTACCTTAG\\n\"\"\""
   ]
  },
  {
   "cell_type": "code",
   "execution_count": 3,
   "id": "865f7283",
   "metadata": {},
   "outputs": [],
   "source": [
    "import re"
   ]
  },
  {
   "cell_type": "code",
   "execution_count": 32,
   "id": "ee9c7851",
   "metadata": {},
   "outputs": [
    {
     "name": "stdout",
     "output_type": "stream",
     "text": [
      "['ATGCCACTATGGTAG']\n",
      "['ATgCCAACATGgATGCCcGATAtGGATTgA']\n",
      "['ATGCGACCCTAGTAG']\n",
      "['ATGCGACCCTAGTAGGG']\n",
      "['ATGACCGACTCAGTATAA']\n",
      "['ATGATCGACTACGATTAG']\n",
      "['ATGATTGGGCCCGCTTAGTAGTGA']\n",
      "['ATGACCGACTCAGTAAAT']\n",
      "['ATGACCGACTAG']\n",
      "['AGGATTGGGCCCGCTTAGTAGTGA']\n",
      "['CATCATCATCATCATCATCATCATCATCAT']\n",
      "['ACTTCA']\n",
      "['TAGACGTACCTTAG']\n"
     ]
    }
   ],
   "source": [
    "for i in dna.splitlines():\n",
    "    regex =re.findall('^A[A-Z]\\w+|^C[A-Z]\\w+|^T[A-Z]\\w+',i)\n",
    "    if len(regex)==1:\n",
    "        print(regex)"
   ]
  },
  {
   "cell_type": "code",
   "execution_count": 31,
   "id": "80f74251",
   "metadata": {},
   "outputs": [
    {
     "name": "stdout",
     "output_type": "stream",
     "text": [
      "Simple Protein-Coding Gene\n",
      "ATGCCACTATGGTAG\n",
      "Upper and Lowercase Protein\n",
      "ATgCCAACATGgATGCCcGATAtGGATTgA\n",
      "Valid Gene\n",
      "ATGCGACCCTAGTAG\n",
      "Invalid Gene\n",
      "ATGCGACCCTAGTAGGG\n",
      "Another Protein-Coding Gene\n",
      "ATGACCGACTCAGTATAA\n",
      "Yet-Another Protein-Coding Gene\n",
      "ATGATCGACTACGATTAG\n",
      "Yet-Again-Another Protein-Coding Gene\n",
      "ATGATTGGGCCCGCTTAGTAGTGA\n",
      "Invalid Protein-Coding Gene\n",
      "ATGACCGACTCAGTAAAT\n",
      "Another Invalid Protein-Coding Gene\n",
      "ATGACCGACTAG\n",
      "Yet-Another Invalid Protein-Coding Gene\n",
      "AGGATTGGGCCCGCTTAGTAGTGA\n",
      "Feline-Encoding DNA\n",
      "CATCATCATCATCATCATCATCATCATCAT\n",
      "Palindrome DNA\n",
      "ACTTCA\n",
      "First And Last DNA\n",
      "TAGACGTACCTTAG\n",
      "\n"
     ]
    }
   ],
   "source": [
    "print(dna)"
   ]
  },
  {
   "cell_type": "markdown",
   "id": "438c2839",
   "metadata": {},
   "source": [
    "## Problem 8\n",
    "Print all of the names of DNA sequences in the file.\n"
   ]
  },
  {
   "cell_type": "code",
   "execution_count": 37,
   "id": "0583d920",
   "metadata": {},
   "outputs": [
    {
     "data": {
      "text/plain": [
       "['Feline-Encoding DNA', 'Palindrome DNA', 'First And Last DNA']"
      ]
     },
     "execution_count": 37,
     "metadata": {},
     "output_type": "execute_result"
    }
   ],
   "source": [
    "re.findall('.*DNA',dna)"
   ]
  },
  {
   "cell_type": "code",
   "execution_count": null,
   "id": "be7ed0e1",
   "metadata": {},
   "outputs": [],
   "source": []
  }
 ],
 "metadata": {
  "kernelspec": {
   "display_name": "Python 3 (ipykernel)",
   "language": "python",
   "name": "python3"
  },
  "language_info": {
   "codemirror_mode": {
    "name": "ipython",
    "version": 3
   },
   "file_extension": ".py",
   "mimetype": "text/x-python",
   "name": "python",
   "nbconvert_exporter": "python",
   "pygments_lexer": "ipython3",
   "version": "3.9.13"
  }
 },
 "nbformat": 4,
 "nbformat_minor": 5
}
