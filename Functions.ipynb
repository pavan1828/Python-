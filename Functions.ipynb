{
 "cells": [
  {
   "cell_type": "markdown",
   "id": "2dde7d0b",
   "metadata": {},
   "source": [
    "# Functions"
   ]
  },
  {
   "cell_type": "markdown",
   "id": "7c28934e",
   "metadata": {},
   "source": [
    "* The purpose of Functions is that \" To Perform Certain Operation /Task and Provides Code Re-Usability\".\n",
    "* There are two steps in creating a function, defining a function and calling the function."
   ]
  },
  {
   "cell_type": "markdown",
   "id": "5c267393",
   "metadata": {},
   "source": [
    "**syntax** for defining a function :\n",
    "\n",
    "\n",
    "                         def func_name(parameter/s):\n",
    "                             block of code"
   ]
  },
  {
   "cell_type": "markdown",
   "id": "d9b6fb6d",
   "metadata": {},
   "source": [
    "* def is a keyword, which tells the interpretor that we are defining a function\n",
    "* func_name is name we give to the function we are defining, it acts as a variable name to the block of code we are writing\n",
    "* parameter these can be considered as the variables we use to write/define our function"
   ]
  },
  {
   "cell_type": "markdown",
   "id": "f42e8ace",
   "metadata": {},
   "source": [
    "**Syntax** for calling a function:\n",
    "\n",
    "\n",
    "                       fun_name(arg/s)\n",
    "                       \n",
    "                       \n",
    "* arg/s are actual inputs for function"
   ]
  },
  {
   "cell_type": "code",
   "execution_count": 5,
   "id": "7fd2284a",
   "metadata": {},
   "outputs": [
    {
     "name": "stdout",
     "output_type": "stream",
     "text": [
      "7\n"
     ]
    }
   ],
   "source": [
    "# function defining\n",
    "def add_(a,b):\n",
    "    print(a+b)\n",
    "    \n",
    "    \n",
    "# function calling\n",
    "add_(1,6)"
   ]
  },
  {
   "cell_type": "code",
   "execution_count": 6,
   "id": "814d99cc",
   "metadata": {},
   "outputs": [
    {
     "name": "stdout",
     "output_type": "stream",
     "text": [
      "18\n"
     ]
    }
   ],
   "source": [
    "add_(10,8)"
   ]
  },
  {
   "cell_type": "markdown",
   "id": "5fe0e4b8",
   "metadata": {},
   "source": [
    "# Parameters and Arguments"
   ]
  },
  {
   "cell_type": "markdown",
   "id": "c6b9ebfe",
   "metadata": {},
   "source": [
    "## parameter"
   ]
  },
  {
   "cell_type": "markdown",
   "id": "f1c8fb2b",
   "metadata": {},
   "source": [
    "* The variables used in Function Heading are called Formal Parameters and They are used for Storing  the inputs coming Function Calls.\n",
    "* The Variables Used in Function Body are called Local Variables / Parameters and They are used for Storing Temporary Results / Function Processing Logic Results.\n",
    "* The Values Formal Parameters and Local parameters can be accessed within corresponding Function Definition but not possible to access in Other Part of the Program "
   ]
  },
  {
   "cell_type": "markdown",
   "id": "23c775c6",
   "metadata": {},
   "source": [
    "def sumop(a,b):  # Here a, b are called Formal parameters  <br>\n",
    "      c=a+b  # Here c is local Parameter/Variable"
   ]
  },
  {
   "cell_type": "markdown",
   "id": "a83add6c",
   "metadata": {},
   "source": [
    "## Arguments"
   ]
  },
  {
   "cell_type": "markdown",
   "id": "b3f03fc3",
   "metadata": {},
   "source": [
    "* Arguments are the variables / Values which are used as Variables in Function Calls.\n",
    "* Examples:sumop(10,20)  # Here 10 20 are called Argument Values<br>\n",
    "\t\t\t\t(OR)\n",
    "\t\t\t\t a=10\n",
    "\t\t\t\t b=20\n",
    "\tsumop(a,b) # Here a,b are called Arguments (Actual variables OR Parameters)<br>\n",
    "* The relationship between Arguments and Parameters is that all the Values of arguments are passing to Parameters. This Mechanism is called Arguments Passing."
   ]
  },
  {
   "cell_type": "markdown",
   "id": "8b5cee16",
   "metadata": {},
   "source": [
    "##### Based on Passing argument Values from Function calls to Parameters of Function Heading, The Arguments are classified into 5 types. They are\n",
    "\n",
    "\t\t\t1. Possitional Arguments\n",
    "\t\t\t2. Default Arguments\n",
    "\t\t\t3. Keyword Arguments\n",
    "\t\t\t4. Variable Length Arguments\n",
    "\t\t\t5. Keyword  Variable Length Arguments"
   ]
  },
  {
   "cell_type": "markdown",
   "id": "51dc3ebc",
   "metadata": {},
   "source": [
    "**1.Positional Argument**"
   ]
  },
  {
   "cell_type": "markdown",
   "id": "dbe1fdd4",
   "metadata": {},
   "source": [
    "* The Concept of Possitional Parameters (or) arguments says that \"The Number of Arguments of Function Call must be equal to the number of formal parameters in Function Heading\".\n",
    "* This Parameter mechanism also recommends to follow Order and Meaning of Parameters for Higher accuracy.\n",
    "* To pass the Specific Data from Function Call to Function Definition then we must take Possitional Argument Mechanism. \n",
    "* The default Parameter Passing Mechanism is Possitional  Arguments (or) Parameters."
   ]
  },
  {
   "cell_type": "markdown",
   "id": "f2065595",
   "metadata": {},
   "source": [
    "**Syntax** for Function Defining :\n",
    "\n",
    "\n",
    "def functionname(param1,param2.....param-n):"
   ]
  },
  {
   "cell_type": "markdown",
   "id": "0bac3c8d",
   "metadata": {},
   "source": [
    "**Syntax** for Function Call:\n",
    "\n",
    "functionname(arg1,arg2....arg-n)"
   ]
  },
  {
   "cell_type": "markdown",
   "id": "d03510a2",
   "metadata": {},
   "source": [
    "* Here the values of arg1,arg2...arg-n are passing to param-1,param-2..param-n respectively.\n",
    "* PVM gives First Priority to Possitional Arguments."
   ]
  },
  {
   "cell_type": "code",
   "execution_count": 10,
   "id": "4c60e8cd",
   "metadata": {},
   "outputs": [
    {
     "name": "stdout",
     "output_type": "stream",
     "text": [
      "5.0\n"
     ]
    }
   ],
   "source": [
    "def division(n,d):\n",
    "    print(n/d)\n",
    "    \n",
    "    \n",
    "division(10,2)# positional argument"
   ]
  },
  {
   "cell_type": "code",
   "execution_count": 11,
   "id": "ddcd699c",
   "metadata": {},
   "outputs": [
    {
     "name": "stdout",
     "output_type": "stream",
     "text": [
      "11 1.25\n"
     ]
    }
   ],
   "source": [
    "def cal(a, b, c):\n",
    "    x = a + b \n",
    "    y = a / c\n",
    "    print(x, y)\n",
    "\n",
    "cal(5, 6, 4)"
   ]
  },
  {
   "cell_type": "markdown",
   "id": "27d712e8",
   "metadata": {},
   "source": [
    "**2. Default Arguments**"
   ]
  },
  {
   "cell_type": "markdown",
   "id": "f3175656",
   "metadata": {},
   "source": [
    "* When there is a Common Value for family of Similar Function Calls then Such type of Common Value(s) must be taken  as default parameter with common value (But not recommended to pass by using Posstional Parameters)\n",
    "\n",
    "**Syntax** for Function Definition with Default Parameters\n",
    "\n",
    "def   functionname(param1,param2,....param-n-1=Val1, Param-n=Val2):\n",
    "    \n",
    "    \n"
   ]
  },
  {
   "cell_type": "markdown",
   "id": "12ba8d41",
   "metadata": {},
   "source": [
    "* Here param-n-1 and param-n are called \"default Parameters\".\n",
    "* and param1,param-2... are called \"Possitional parameters\".\n"
   ]
  },
  {
   "cell_type": "markdown",
   "id": "7e873f0d",
   "metadata": {},
   "source": [
    "* Rule-: When we use default parameters in the function definition, They must be used as last Parameter(s) otherwise we get Error( SyntaxError: non-default argument (Possitional ) follows default argument).\n"
   ]
  },
  {
   "cell_type": "code",
   "execution_count": 14,
   "id": "69c7d2e2",
   "metadata": {},
   "outputs": [
    {
     "name": "stdout",
     "output_type": "stream",
     "text": [
      "490.00000000000006\n"
     ]
    }
   ],
   "source": [
    "def cPotentialEnergy(m,h,g=9.8): # g is default argument\n",
    "    print(m*h*g)\n",
    "    \n",
    "    \n",
    "cPotentialEnergy(10,5)"
   ]
  },
  {
   "cell_type": "code",
   "execution_count": 15,
   "id": "86dfaa97",
   "metadata": {},
   "outputs": [
    {
     "name": "stdout",
     "output_type": "stream",
     "text": [
      "750\n"
     ]
    }
   ],
   "source": [
    "cPotentialEnergy(10,5,g=15)#change value of default argument"
   ]
  },
  {
   "cell_type": "code",
   "execution_count": 16,
   "id": "7f2b725b",
   "metadata": {},
   "outputs": [
    {
     "name": "stdout",
     "output_type": "stream",
     "text": [
      "hehaahaa\n"
     ]
    }
   ],
   "source": [
    "def fooConcatenationofstring(s1 :str ,s2='',n=1):\n",
    "    print((s1+s2)*n)\n",
    "    \n",
    "    \n",
    "    \n",
    "    \n",
    "fooConcatenationofstring('he',s2='haahaa')\n"
   ]
  },
  {
   "cell_type": "markdown",
   "id": "3a6ac7bb",
   "metadata": {},
   "source": [
    "**3. Keyword Arguments**"
   ]
  },
  {
   "cell_type": "markdown",
   "id": "d1c18273",
   "metadata": {},
   "source": [
    "* In some of the circumstances, we know the function name and formal parameter names and we don't know the order of formal Parameter names and to pass the data / values accurately we must use the concept of Keyword Parameters (or) arguments.\n",
    "* The implementation of Keyword Parameters (or) arguments says that all the formal parameter names used as arguments in Function call(s) as keys.\n",
    "\n",
    "**Syntax** for function defining:-\n"
   ]
  },
  {
   "cell_type": "markdown",
   "id": "152b3b58",
   "metadata": {},
   "source": [
    "def  functionname(param1,param2...param-n):"
   ]
  },
  {
   "cell_type": "markdown",
   "id": "13f3de9c",
   "metadata": {},
   "source": [
    "**Syntax** for function call:-\n"
   ]
  },
  {
   "cell_type": "markdown",
   "id": "7c4efd05",
   "metadata": {},
   "source": [
    "functionname(param-n=val-n,param1=val1,param-n-1=val-n-1,.........)"
   ]
  },
  {
   "cell_type": "markdown",
   "id": "c5243b41",
   "metadata": {},
   "source": [
    "* Here param-n=val-n,param1=val1,param-n-1=val-n-1,...... are called Keywords arguments\n",
    "* When we specify Keyword arguments before Possitional Arguments in Function Calls(s) then we get SyntaxError: positional argument follows keyword argument\n"
   ]
  },
  {
   "cell_type": "code",
   "execution_count": 18,
   "id": "a2c73144",
   "metadata": {},
   "outputs": [
    {
     "name": "stdout",
     "output_type": "stream",
     "text": [
      "5.0\n"
     ]
    }
   ],
   "source": [
    "def division(d,n):\n",
    "    print(n/d)\n",
    "    \n",
    "    \n",
    "division(n=10,d=2) #key word argument"
   ]
  },
  {
   "cell_type": "markdown",
   "id": "f60222c9",
   "metadata": {},
   "source": [
    "# Documentation strings\n",
    "* Documentation strings (or docstrings) provide a convenient way of associating documentation with Python modules, functions, classes, and methods.\n",
    "* It’s specified in source code that is used, like a comment, to document a specific segment of code. Unlike conventional source code comments, the docstring should describe what the function does, not how."
   ]
  },
  {
   "cell_type": "markdown",
   "id": "d079d13a",
   "metadata": {},
   "source": [
    "* **Declaring Docstrings:** The docstrings are declared using ”’triple single quotes”’ or “”” triple double quotes “”” just below the class, method, or function declaration. All functions should have a docstring.\n",
    "* **Accessing Docstrings:** The docstrings can be accessed using the __doc__ method of the object or using the help function. The below examples demonstrate how to declare and access a docstring."
   ]
  },
  {
   "cell_type": "code",
   "execution_count": 19,
   "id": "15eaa051",
   "metadata": {},
   "outputs": [
    {
     "name": "stdout",
     "output_type": "stream",
     "text": [
      "5.0\n"
     ]
    }
   ],
   "source": [
    "def division(d:float,n:float):\n",
    "    '''\n",
    "d=Denominator\n",
    "n=numerator\n",
    "'''\n",
    "    print(n/d)\n",
    "    \n",
    "    \n",
    "division(n=10,d=2)"
   ]
  },
  {
   "cell_type": "code",
   "execution_count": 20,
   "id": "8caabadc",
   "metadata": {},
   "outputs": [
    {
     "name": "stdout",
     "output_type": "stream",
     "text": [
      "\n",
      "d=Denominator\n",
      "n=numerator\n",
      "\n"
     ]
    }
   ],
   "source": [
    "print(division.__doc__)"
   ]
  },
  {
   "cell_type": "markdown",
   "id": "d9323584",
   "metadata": {},
   "source": [
    "# return"
   ]
  },
  {
   "cell_type": "markdown",
   "id": "ad2e186c",
   "metadata": {},
   "source": [
    "* A return statement is used to end the execution of the function call and “returns” the result (value of the expression following the return keyword) to the caller.\n",
    "* The statements after the return statements are not executed. If the return statement is without any expression, then the special value None is returned.\n",
    "* A return statement is overall used to invoke a function so that the passed statements can be executed.\n",
    "\n",
    "**syntax:**<br>\n",
    "def fun():<br>\n",
    "    statements<br>\n",
    "    .<br>\n",
    "    .<br>\n",
    "    return [expression]"
   ]
  },
  {
   "cell_type": "code",
   "execution_count": 1,
   "id": "4a94229c",
   "metadata": {},
   "outputs": [],
   "source": [
    "def cube(x):\n",
    "   r=x**3\n",
    "   return r"
   ]
  },
  {
   "cell_type": "code",
   "execution_count": 2,
   "id": "0157d30f",
   "metadata": {},
   "outputs": [
    {
     "data": {
      "text/plain": [
       "125"
      ]
     },
     "execution_count": 2,
     "metadata": {},
     "output_type": "execute_result"
    }
   ],
   "source": [
    "cube(5)"
   ]
  },
  {
   "cell_type": "code",
   "execution_count": 3,
   "id": "0b39a294",
   "metadata": {},
   "outputs": [],
   "source": [
    "def foost(s):\n",
    "    x=s.casefold()\n",
    "    for char in x:\n",
    "        if char.isnumeric():\n",
    "            print(f\"the first non alpha char is a numeric,{char} \")\n",
    "            return char\n",
    "        elif char.isalpha() is False:\n",
    "            print(f'the first non alpha char is special char ,{char}')\n",
    "            return char"
   ]
  },
  {
   "cell_type": "code",
   "execution_count": 4,
   "id": "d815452e",
   "metadata": {},
   "outputs": [
    {
     "name": "stdout",
     "output_type": "stream",
     "text": [
      "the first non alpha char is special char ,_\n"
     ]
    },
    {
     "data": {
      "text/plain": [
       "'_'"
      ]
     },
     "execution_count": 4,
     "metadata": {},
     "output_type": "execute_result"
    }
   ],
   "source": [
    "foost('abc_@$#185')"
   ]
  },
  {
   "cell_type": "code",
   "execution_count": 5,
   "id": "e4f299c1",
   "metadata": {},
   "outputs": [],
   "source": [
    "def evenodd(a, b):\n",
    "    even = []\n",
    "    odd = []\n",
    "    s, e = min(a, b), max(a, b) + 1\n",
    "    for num in range(s, e):\n",
    "        if num % 2 == 0:\n",
    "            even.append(num)\n",
    "            #return even\n",
    "        else:\n",
    "            odd.append(num)\n",
    "            #return odd\n",
    "    return even, odd"
   ]
  },
  {
   "cell_type": "code",
   "execution_count": 6,
   "id": "6004e965",
   "metadata": {},
   "outputs": [
    {
     "data": {
      "text/plain": [
       "([2, 4, 6, 8, 10], [1, 3, 5, 7, 9])"
      ]
     },
     "execution_count": 6,
     "metadata": {},
     "output_type": "execute_result"
    }
   ],
   "source": [
    "m,n=evenodd(1,10)\n",
    "m,n"
   ]
  },
  {
   "cell_type": "code",
   "execution_count": 8,
   "id": "747f4ce1",
   "metadata": {},
   "outputs": [],
   "source": [
    "def arrangestring(s):\n",
    "    x=list(s)\n",
    "    #sc,n,,u,l='','','',''\n",
    "    a,b,c,d=[],[],[],[]\n",
    "    for char in x:\n",
    "        if char.isnumeric():\n",
    "            b.append(char)\n",
    "        elif char.isupper():\n",
    "            c.append(char)\n",
    "        elif char.islower():\n",
    "            d.append(char)\n",
    "        else:\n",
    "            a.append(char)\n",
    "    #a.sort(),b.sort(),c.sort(),d.sort()\n",
    "    return ''.join(a)+''.join(b)+''.join(c)+''.join(d)"
   ]
  },
  {
   "cell_type": "code",
   "execution_count": 9,
   "id": "59613df6",
   "metadata": {},
   "outputs": [
    {
     "data": {
      "text/plain": [
       "'@$857nd'"
      ]
     },
     "execution_count": 9,
     "metadata": {},
     "output_type": "execute_result"
    }
   ],
   "source": [
    "arrangestring('nd857@$')"
   ]
  },
  {
   "cell_type": "markdown",
   "id": "cad8df9d",
   "metadata": {},
   "source": [
    "# Recursion function"
   ]
  },
  {
   "cell_type": "markdown",
   "id": "586571f1",
   "metadata": {},
   "source": [
    "* The term **Recursion** can be defined as the process of defining something in terms of itself. In simple words, it is a process in which a function calls itself directly or indirectly."
   ]
  },
  {
   "cell_type": "markdown",
   "id": "0f61ad5c",
   "metadata": {},
   "source": [
    "**Advantages of using recursion**\n",
    "\n",
    "* A complicated function can be split down into smaller sub-problems utilizing recursion.\n",
    "* Sequence creation is simpler through recursion than utilizing any nested iteration.\n",
    "* Recursive functions render the code look simple and effective."
   ]
  },
  {
   "cell_type": "markdown",
   "id": "652af54b",
   "metadata": {},
   "source": [
    "**Disadvantages of using recursion** \n",
    "\n",
    "* A lot of memory and time is taken through recursive calls which makes it expensive for use.\n",
    "* Recursive functions are challenging to debug.\n",
    "* The reasoning behind recursion can sometimes be tough to think through."
   ]
  },
  {
   "cell_type": "markdown",
   "id": "7b7b1009",
   "metadata": {},
   "source": [
    "**syntax:**"
   ]
  },
  {
   "cell_type": "markdown",
   "id": "ba72dbad",
   "metadata": {},
   "source": [
    "def func(): <--  \n",
    "\n",
    "              |\n",
    "              | (recursive call)\n",
    "              |\n",
    "              \n",
    "              \n",
    "    func() ----"
   ]
  },
  {
   "cell_type": "code",
   "execution_count": 2,
   "id": "b7147f27",
   "metadata": {},
   "outputs": [],
   "source": [
    "def factRecFun(num):\n",
    "    if num==1:\n",
    "        return 1\n",
    "    else:\n",
    "        return num * factRecFun(num-1)"
   ]
  },
  {
   "cell_type": "code",
   "execution_count": 4,
   "id": "4207af82",
   "metadata": {},
   "outputs": [
    {
     "data": {
      "text/plain": [
       "120"
      ]
     },
     "execution_count": 4,
     "metadata": {},
     "output_type": "execute_result"
    }
   ],
   "source": [
    "factRecFun(5)"
   ]
  },
  {
   "cell_type": "code",
   "execution_count": 5,
   "id": "7582ea5f",
   "metadata": {},
   "outputs": [],
   "source": [
    "# Recursive function\n",
    "def recursive_fibonacci(n):\n",
    "    if n <= 1:\n",
    "        return n\n",
    "    else:\n",
    "        return(recursive_fibonacci(n-1) + recursive_fibonacci(n-2))"
   ]
  },
  {
   "cell_type": "code",
   "execution_count": 12,
   "id": "3ca1d72f",
   "metadata": {},
   "outputs": [
    {
     "name": "stdout",
     "output_type": "stream",
     "text": [
      "10\n",
      "Fibonacci series:\n",
      "0\n",
      "1\n",
      "1\n",
      "2\n",
      "3\n",
      "5\n",
      "8\n",
      "13\n",
      "21\n",
      "34\n"
     ]
    }
   ],
   "source": [
    "num = int(input())\n",
    "if num <= 0:\n",
    "  print(\"Invalid input\")\n",
    "else:\n",
    "  print(\"Fibonacci series:\")\n",
    "for i in range(num):\n",
    "    print(recursive_fibonacci(i))"
   ]
  },
  {
   "cell_type": "markdown",
   "id": "694dea91",
   "metadata": {},
   "source": [
    "# * args and **kwargs"
   ]
  },
  {
   "cell_type": "markdown",
   "id": "40fbcb60",
   "metadata": {},
   "source": [
    "* **args** specifies the number of non-keyworded arguments that can be passed and the operations that can be performed on the function\n",
    "\n",
    "* The syntax is to use the symbol * to take in a variable number of arguments; by convention, it is often used with the word args."
   ]
  },
  {
   "cell_type": "code",
   "execution_count": 14,
   "id": "9a04ecd3",
   "metadata": {},
   "outputs": [],
   "source": [
    "def foo(a,b,c=0 , *args ):  # args value kept in tuple\n",
    "    r=a+b+c\n",
    "    for arg in args:\n",
    "        r+=arg\n",
    "    return r"
   ]
  },
  {
   "cell_type": "code",
   "execution_count": 15,
   "id": "4f8ceea4",
   "metadata": {},
   "outputs": [
    {
     "data": {
      "text/plain": [
       "21"
      ]
     },
     "execution_count": 15,
     "metadata": {},
     "output_type": "execute_result"
    }
   ],
   "source": [
    "foo(1,2,3, *(4,5,6))"
   ]
  },
  {
   "cell_type": "markdown",
   "id": "ee817737",
   "metadata": {},
   "source": [
    "*  **kwargs** is a variable number of keyworded arguments that can be passed to a function that can perform dictionary operations.\n",
    "* The special syntax **kwargs in function definitions in Python is used to pass a keyworded, variable-length argument list"
   ]
  },
  {
   "cell_type": "code",
   "execution_count": 16,
   "id": "d222df32",
   "metadata": {},
   "outputs": [],
   "source": [
    "def foo(a,b,c=0 , *args ,**kwargs):  # args value kept in tuple\n",
    "    r=a+b+c\n",
    "    for arg in args:\n",
    "        r+=arg\n",
    "    for kwarg in kwargs: #kwargs value kept in dict\n",
    "        print(kwargs[kwarg])\n",
    "    return r"
   ]
  },
  {
   "cell_type": "code",
   "execution_count": 17,
   "id": "43156095",
   "metadata": {},
   "outputs": [
    {
     "name": "stdout",
     "output_type": "stream",
     "text": [
      "[1, 2, 3]\n"
     ]
    },
    {
     "data": {
      "text/plain": [
       "21"
      ]
     },
     "execution_count": 17,
     "metadata": {},
     "output_type": "execute_result"
    }
   ],
   "source": [
    "foo(1,2,3, *(4,5,6),**{'marks':[1,2,3]})"
   ]
  },
  {
   "cell_type": "code",
   "execution_count": 18,
   "id": "d5e2fec3",
   "metadata": {},
   "outputs": [],
   "source": [
    "def foostumarks(**kwargs):\n",
    "    for kwarg in kwargs:\n",
    "        print(f'Total marks scored by {kwarg} is {sum(kwargs[kwarg])}')\n",
    "        "
   ]
  },
  {
   "cell_type": "code",
   "execution_count": 19,
   "id": "03ffce7e",
   "metadata": {},
   "outputs": [
    {
     "name": "stdout",
     "output_type": "stream",
     "text": [
      "Total marks scored by ram is 60\n",
      "Total marks scored by pavan is 90\n"
     ]
    }
   ],
   "source": [
    "foostumarks(**{'ram':(10 ,20,30),'pavan':(20,30,40)})"
   ]
  },
  {
   "cell_type": "code",
   "execution_count": 20,
   "id": "7014bea1",
   "metadata": {},
   "outputs": [
    {
     "name": "stdout",
     "output_type": "stream",
     "text": [
      "Total marks scored by ram is 60\n",
      "Total marks scored by pavan is 90\n",
      "Total marks scored by viv is 150\n",
      "Total marks scored by hib is 185\n"
     ]
    }
   ],
   "source": [
    "foostumarks(**{'ram':(10 ,20,30),'pavan':(20,30,40),},\n",
    "**{'viv':[10,50,90],'hib':[45,60,80]})\n",
    "                "
   ]
  },
  {
   "cell_type": "code",
   "execution_count": null,
   "id": "67616096",
   "metadata": {},
   "outputs": [],
   "source": []
  }
 ],
 "metadata": {
  "kernelspec": {
   "display_name": "Python 3 (ipykernel)",
   "language": "python",
   "name": "python3"
  },
  "language_info": {
   "codemirror_mode": {
    "name": "ipython",
    "version": 3
   },
   "file_extension": ".py",
   "mimetype": "text/x-python",
   "name": "python",
   "nbconvert_exporter": "python",
   "pygments_lexer": "ipython3",
   "version": "3.9.13"
  }
 },
 "nbformat": 4,
 "nbformat_minor": 5
}
