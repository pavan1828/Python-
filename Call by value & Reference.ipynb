{
 "cells": [
  {
   "cell_type": "markdown",
   "id": "6d12b3f2",
   "metadata": {},
   "source": [
    "# Call/Pass By Value:"
   ]
  },
  {
   "cell_type": "markdown",
   "id": "432a649b",
   "metadata": {},
   "source": [
    "* In pass-by-value, the function receives a copy of the argument objects passed to it by the caller, stored in a new location in memory.\n",
    "* You pass values of parameter to the function,if any kind of change done to those parameters inside the function ,those changes not reflected back in your actual parameters"
   ]
  },
  {
   "cell_type": "code",
   "execution_count": 1,
   "id": "372c29ca",
   "metadata": {},
   "outputs": [
    {
     "name": "stdout",
     "output_type": "stream",
     "text": [
      "Inside Function: InnomaticsStudents\n",
      "Outside Function: Innomatics\n"
     ]
    }
   ],
   "source": [
    "# call by value\n",
    "s = \"Innomatics\"\n",
    "def foo1(s):\n",
    "    s = \"InnomaticsStudents\"\n",
    "    print(\"Inside Function:\", s)\n",
    "    \n",
    "foo1(s)\n",
    "print(\"Outside Function:\", s)"
   ]
  },
  {
   "cell_type": "markdown",
   "id": "f7f0dbbb",
   "metadata": {},
   "source": [
    "# Call  by Reference:"
   ]
  },
  {
   "cell_type": "markdown",
   "id": "aa374f66",
   "metadata": {},
   "source": [
    "* In pass-by-reference, the function receives reference to the argument objects passed to it by the caller, both pointing to the same memory location.\n",
    "\n",
    "* you pass reference of parameters to your function.if any changes made to those parameters inside function those changes are get reflected back to your actual parameters."
   ]
  },
  {
   "cell_type": "code",
   "execution_count": 6,
   "id": "7a1a82ac",
   "metadata": {},
   "outputs": [
    {
     "name": "stdout",
     "output_type": "stream",
     "text": [
      "Inside Function [1, 2, 3, 4, 5]\n",
      "Outside Function: [1, 2, 3, 4, 5]\n"
     ]
    }
   ],
   "source": [
    "def sum(list):\n",
    "    list.append(5)\n",
    "    print(\"Inside Function\", list)\n",
    " \n",
    "L1 = [1,2,3,4]\n",
    " \n",
    "sum(L1)\n",
    "print(\"Outside Function:\", L1)"
   ]
  },
  {
   "cell_type": "markdown",
   "id": "de35079b",
   "metadata": {},
   "source": [
    "In Python Neither of these two concepts are applicable, rather the **values are sent to functions by means of object reference.**"
   ]
  },
  {
   "cell_type": "markdown",
   "id": "dc3431af",
   "metadata": {},
   "source": [
    "# Pass-by-object-reference:"
   ]
  },
  {
   "cell_type": "markdown",
   "id": "13965152",
   "metadata": {},
   "source": [
    "* In Python, (almost) everything is an object. What we commonly refer to as “variables” in Python are more properly called names. Likewise, “assignment” is really the binding of a name to an object. Each binding has a scope that defines its visibility, usually the block in which the name originates.\n",
    "\n",
    "* In Python,Values are passed to function by object reference.\n",
    "\n",
    "* if object is immutable(not modifiable) than the modified value is not available outside the function.\n",
    "\n",
    "* if object is mutable (modifiable) than modified value is available outside the function.\n",
    "\n",
    "**Mutable objects:**\n",
    "\n",
    "list, dict, set, byte array\n",
    "\n",
    "**Immutable objects:**\n",
    "\n",
    "int, float, complex, string, tuple, frozen set [note: immutable version of set], bytes.\n",
    "\n"
   ]
  },
  {
   "cell_type": "code",
   "execution_count": 8,
   "id": "ec266bc8",
   "metadata": {},
   "outputs": [
    {
     "name": "stdout",
     "output_type": "stream",
     "text": [
      "10 2192431868496\n",
      "5 2192431868336\n"
     ]
    }
   ],
   "source": [
    "def val(x):\n",
    "    x=10\n",
    "    print(x,id(x))\n",
    "x=5\n",
    "val(x)\n",
    "print(x,id(x))"
   ]
  },
  {
   "cell_type": "markdown",
   "id": "d38b96af",
   "metadata": {},
   "source": [
    "A new object is created memory because integer object are immutable"
   ]
  },
  {
   "cell_type": "code",
   "execution_count": 9,
   "id": "0d733985",
   "metadata": {},
   "outputs": [
    {
     "name": "stdout",
     "output_type": "stream",
     "text": [
      "[1, 2, 3] 2192513380608\n",
      "[1, 2, 3, 4] 2192513380608\n"
     ]
    }
   ],
   "source": [
    "def val(lst):\n",
    "    lst.append(4)\n",
    "    print(lst,id(lst))\n",
    "lst=[1,2,3]\n",
    "\n",
    "print(lst,id(lst))\n",
    "val(lst)"
   ]
  },
  {
   "cell_type": "markdown",
   "id": "1509fadf",
   "metadata": {},
   "source": [
    "A new object is not created memory because list object are mutable it simply add new elements to same object"
   ]
  },
  {
   "cell_type": "code",
   "execution_count": null,
   "id": "848a3e50",
   "metadata": {},
   "outputs": [],
   "source": []
  }
 ],
 "metadata": {
  "kernelspec": {
   "display_name": "Python 3 (ipykernel)",
   "language": "python",
   "name": "python3"
  },
  "language_info": {
   "codemirror_mode": {
    "name": "ipython",
    "version": 3
   },
   "file_extension": ".py",
   "mimetype": "text/x-python",
   "name": "python",
   "nbconvert_exporter": "python",
   "pygments_lexer": "ipython3",
   "version": "3.9.13"
  }
 },
 "nbformat": 4,
 "nbformat_minor": 5
}
