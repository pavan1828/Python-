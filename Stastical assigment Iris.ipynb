{
 "cells": [
  {
   "cell_type": "code",
   "execution_count": 2,
   "id": "487d5c21",
   "metadata": {},
   "outputs": [],
   "source": [
    "import numpy as np,pandas as pd"
   ]
  },
  {
   "cell_type": "code",
   "execution_count": 3,
   "id": "e28f5b1f",
   "metadata": {},
   "outputs": [
    {
     "data": {
      "text/html": [
       "<div>\n",
       "<style scoped>\n",
       "    .dataframe tbody tr th:only-of-type {\n",
       "        vertical-align: middle;\n",
       "    }\n",
       "\n",
       "    .dataframe tbody tr th {\n",
       "        vertical-align: top;\n",
       "    }\n",
       "\n",
       "    .dataframe thead th {\n",
       "        text-align: right;\n",
       "    }\n",
       "</style>\n",
       "<table border=\"1\" class=\"dataframe\">\n",
       "  <thead>\n",
       "    <tr style=\"text-align: right;\">\n",
       "      <th></th>\n",
       "      <th>Id</th>\n",
       "      <th>SepalLengthCm</th>\n",
       "      <th>SepalWidthCm</th>\n",
       "      <th>PetalLengthCm</th>\n",
       "      <th>PetalWidthCm</th>\n",
       "      <th>Species</th>\n",
       "    </tr>\n",
       "  </thead>\n",
       "  <tbody>\n",
       "    <tr>\n",
       "      <th>0</th>\n",
       "      <td>1</td>\n",
       "      <td>5.1</td>\n",
       "      <td>3.5</td>\n",
       "      <td>1.4</td>\n",
       "      <td>0.2</td>\n",
       "      <td>Iris-setosa</td>\n",
       "    </tr>\n",
       "    <tr>\n",
       "      <th>1</th>\n",
       "      <td>2</td>\n",
       "      <td>4.9</td>\n",
       "      <td>3.0</td>\n",
       "      <td>1.4</td>\n",
       "      <td>0.2</td>\n",
       "      <td>Iris-setosa</td>\n",
       "    </tr>\n",
       "    <tr>\n",
       "      <th>2</th>\n",
       "      <td>3</td>\n",
       "      <td>4.7</td>\n",
       "      <td>3.2</td>\n",
       "      <td>1.3</td>\n",
       "      <td>0.2</td>\n",
       "      <td>Iris-setosa</td>\n",
       "    </tr>\n",
       "    <tr>\n",
       "      <th>3</th>\n",
       "      <td>4</td>\n",
       "      <td>4.6</td>\n",
       "      <td>3.1</td>\n",
       "      <td>1.5</td>\n",
       "      <td>0.2</td>\n",
       "      <td>Iris-setosa</td>\n",
       "    </tr>\n",
       "    <tr>\n",
       "      <th>4</th>\n",
       "      <td>5</td>\n",
       "      <td>5.0</td>\n",
       "      <td>3.6</td>\n",
       "      <td>1.4</td>\n",
       "      <td>0.2</td>\n",
       "      <td>Iris-setosa</td>\n",
       "    </tr>\n",
       "    <tr>\n",
       "      <th>...</th>\n",
       "      <td>...</td>\n",
       "      <td>...</td>\n",
       "      <td>...</td>\n",
       "      <td>...</td>\n",
       "      <td>...</td>\n",
       "      <td>...</td>\n",
       "    </tr>\n",
       "    <tr>\n",
       "      <th>145</th>\n",
       "      <td>146</td>\n",
       "      <td>6.7</td>\n",
       "      <td>3.0</td>\n",
       "      <td>5.2</td>\n",
       "      <td>2.3</td>\n",
       "      <td>Iris-virginica</td>\n",
       "    </tr>\n",
       "    <tr>\n",
       "      <th>146</th>\n",
       "      <td>147</td>\n",
       "      <td>6.3</td>\n",
       "      <td>2.5</td>\n",
       "      <td>5.0</td>\n",
       "      <td>1.9</td>\n",
       "      <td>Iris-virginica</td>\n",
       "    </tr>\n",
       "    <tr>\n",
       "      <th>147</th>\n",
       "      <td>148</td>\n",
       "      <td>6.5</td>\n",
       "      <td>3.0</td>\n",
       "      <td>5.2</td>\n",
       "      <td>2.0</td>\n",
       "      <td>Iris-virginica</td>\n",
       "    </tr>\n",
       "    <tr>\n",
       "      <th>148</th>\n",
       "      <td>149</td>\n",
       "      <td>6.2</td>\n",
       "      <td>3.4</td>\n",
       "      <td>5.4</td>\n",
       "      <td>2.3</td>\n",
       "      <td>Iris-virginica</td>\n",
       "    </tr>\n",
       "    <tr>\n",
       "      <th>149</th>\n",
       "      <td>150</td>\n",
       "      <td>5.9</td>\n",
       "      <td>3.0</td>\n",
       "      <td>5.1</td>\n",
       "      <td>1.8</td>\n",
       "      <td>Iris-virginica</td>\n",
       "    </tr>\n",
       "  </tbody>\n",
       "</table>\n",
       "<p>150 rows × 6 columns</p>\n",
       "</div>"
      ],
      "text/plain": [
       "      Id  SepalLengthCm  SepalWidthCm  PetalLengthCm  PetalWidthCm  \\\n",
       "0      1            5.1           3.5            1.4           0.2   \n",
       "1      2            4.9           3.0            1.4           0.2   \n",
       "2      3            4.7           3.2            1.3           0.2   \n",
       "3      4            4.6           3.1            1.5           0.2   \n",
       "4      5            5.0           3.6            1.4           0.2   \n",
       "..   ...            ...           ...            ...           ...   \n",
       "145  146            6.7           3.0            5.2           2.3   \n",
       "146  147            6.3           2.5            5.0           1.9   \n",
       "147  148            6.5           3.0            5.2           2.0   \n",
       "148  149            6.2           3.4            5.4           2.3   \n",
       "149  150            5.9           3.0            5.1           1.8   \n",
       "\n",
       "            Species  \n",
       "0       Iris-setosa  \n",
       "1       Iris-setosa  \n",
       "2       Iris-setosa  \n",
       "3       Iris-setosa  \n",
       "4       Iris-setosa  \n",
       "..              ...  \n",
       "145  Iris-virginica  \n",
       "146  Iris-virginica  \n",
       "147  Iris-virginica  \n",
       "148  Iris-virginica  \n",
       "149  Iris-virginica  \n",
       "\n",
       "[150 rows x 6 columns]"
      ]
     },
     "execution_count": 3,
     "metadata": {},
     "output_type": "execute_result"
    }
   ],
   "source": [
    "a=pd.read_csv(r\"C:\\Users\\pc\\Downloads\\Iris.csv\")\n",
    "a"
   ]
  },
  {
   "cell_type": "code",
   "execution_count": 41,
   "id": "33fc9275",
   "metadata": {},
   "outputs": [],
   "source": [
    "class data :\n",
    "    def __init__(self, file_path):\n",
    "        self.df = pd.read_csv(r\"C:\\Users\\pc\\Downloads\\Iris.csv\")\n",
    "        \n",
    "    def Arithmetic_Mean(self,column_name):\n",
    "        if column_name not in self.df.columns:\n",
    "            return \"column name not found in the DataFrame.\"\n",
    "\n",
    "        return sum(self.df[column_name]) / len(self.df[column_name])\n",
    "    \n",
    "    \n",
    "    def Geometric_Mean(self, column_name):\n",
    "        if column_name not in self.df.columns:\n",
    "            return \"Column name not found in the DataFrame.\"\n",
    "\n",
    "        column_values = self.df[column_name]\n",
    "        product = 1\n",
    "        count = 0\n",
    "\n",
    "        for value in column_values:\n",
    "            product *= value\n",
    "            count += 1\n",
    "\n",
    "        geometric_mean = product ** (1 / count)\n",
    "        return geometric_mean\n",
    "\n",
    "        \n",
    "        \n",
    "    def Harmonic_Mean(self, column_name):\n",
    "        \n",
    "        if column_name not in self.df.columns:\n",
    "            return \"column name not found in the DataFrame\"\n",
    "\n",
    "        column_values = self.df[column_name]\n",
    "        \n",
    "        harmonic_mean = len(column_values) / sum(1 / value for value in column_values)\n",
    "        return harmonic_mean\n",
    "    \n",
    "    \n",
    "    def Min (self, column_name):\n",
    "        \n",
    "        if column_name not in self.df.columns:\n",
    "            return \"column name not found in the DataFrame\"\n",
    "        \n",
    "        column_values = self.df[column_name]\n",
    "    \n",
    "        new_list = []\n",
    "\n",
    "        minimum = column_values.iloc[0]  # Set initial minimum value to the first element\n",
    "\n",
    "        for value in column_values:\n",
    "            if value < minimum:\n",
    "                minimum = value\n",
    "                new_list.append(value)\n",
    "\n",
    "        return minimum\n",
    "    \n",
    "    def Max (self, column_name):\n",
    "        \n",
    "        if column_name not in self.df.columns:\n",
    "            return \"column name not found in the DataFrame\"\n",
    "        \n",
    "        column_values = self.df[column_name]\n",
    "    \n",
    "        new_list = []\n",
    "\n",
    "        maximum= column_values.iloc[0]  # Set initial minimum value to the first element\n",
    "\n",
    "        for value in column_values:\n",
    "            if value > maximum:\n",
    "                maximum = value\n",
    "                new_list.append(value)\n",
    "        return maximum\n",
    "    \n",
    "    def Range(self,column_name) :\n",
    "            \n",
    "            if column_name not in self.df.columns:\n",
    "                return \"column name not found in the DataFrame\"\n",
    "        \n",
    "            column_values = self.df[column_name]\n",
    "\n",
    "            minimum= maximum= column_values.iloc[0]  # Set initial min/max value to the first element\n",
    "\n",
    "            for value in column_values:\n",
    "                if value < minimum:\n",
    "                    minimum = value\n",
    "                elif value > maximum:\n",
    "                    maximum = value\n",
    "\n",
    "            return maximum - minimum\n",
    "        \n",
    "    def medium(self,column_name):\n",
    "        \n",
    "        \n",
    "        if column_name not in self.df.columns:\n",
    "                return \"column name not found in the DataFrame\"\n",
    "        column_values = self.df[column_name]\n",
    "            \n",
    "        mid = len(column_values) // 2\n",
    "\n",
    "        median_value = (column_values.iloc[mid] + column_values.iloc[~mid]) / 2 #iloc to get the values of specified indinces\n",
    "\n",
    "        return median_value\n",
    "    \n",
    "    def CoefficientOfRange(self, column_name):\n",
    "        if column_name not in self.df.columns:\n",
    "            return \"Column name not found in the DataFrame\"\n",
    "\n",
    "        column_values = self.df[column_name] \n",
    "    \n",
    "        minimum = maximum = column_values.iloc[0] # cal range \n",
    "        for value in column_values:\n",
    "            if value < minimum:\n",
    "                minimum = value\n",
    "            elif value > maximum:\n",
    "                maximum = value\n",
    "\n",
    "        data_range = maximum - minimum\n",
    "\n",
    "    \n",
    "        coefficient_of_range = data_range / (maximum + minimum)# Calculate coefficient of range\n",
    "\n",
    "        return coefficient_of_range\n",
    "    \n",
    "    def CoefficientOfVariation(self, column_name):\n",
    "        \n",
    "        if column_name not in self.df.columns:\n",
    "            return \"Column name not found in the DataFrame\"\n",
    "\n",
    "        column_values = self.df[column_name]\n",
    "\n",
    "        #here we calculate mean\n",
    "        total_sum = 0\n",
    "        for value in column_values:\n",
    "            total_sum += value\n",
    "        mean = total_sum / len(column_values)\n",
    "\n",
    "        # here we Calculate standard deviation\n",
    "        std_dev_sum = 0\n",
    "        for value in column_values:\n",
    "            std_dev_sum += (value - mean) ** 2\n",
    "        std_dev = (std_dev_sum / len(column_values)) ** 0.5\n",
    "\n",
    "        # Calculate coefficient of variation\n",
    "        coefficient_of_variation = (std_dev / mean) * 100  \n",
    "\n",
    "        return coefficient_of_variation\n",
    "    \n",
    "    def CoefficientOfStandardDeviation(self, column_name):\n",
    "        \n",
    "        if column_name not in self.df.columns:\n",
    "            return \"Column name not found in the DataFrame\"\n",
    "\n",
    "        column_values = self.df[column_name]\n",
    "        \n",
    "        total_sum = 0\n",
    "        for value in column_values:\n",
    "            total_sum += value\n",
    "        mean = total_sum / len(column_values)\n",
    "\n",
    "        # Calculate standard deviation\n",
    "        std_dev_sum = 0\n",
    "        for value in column_values:\n",
    "            std_dev_sum += (value - mean) ** 2\n",
    "        std_dev = (std_dev_sum / len(column_values)) ** 0.5\n",
    "\n",
    "        coefficient_of_std_dev = std_dev / mean  # Calculate coefficient of standard deviation\n",
    "\n",
    "\n",
    "        return coefficient_of_std_dev\n",
    "\n",
    "    def Variance(self, column_name):\n",
    "        if column_name not in self.df.columns:\n",
    "            return \"Column name not found in the DataFrame\"\n",
    "\n",
    "        column_values = self.df[column_name]\n",
    "\n",
    "        total_sum = 0\n",
    "        for value in column_values:\n",
    "            total_sum += value\n",
    "        mean = total_sum / len(column_values)\n",
    "\n",
    "        # here Calculating  squared differences and sum\n",
    "        squared_diff_sum = 0\n",
    "        for value in column_values:\n",
    "            squared_diff_sum += (value - mean) ** 2\n",
    "\n",
    "        # here Calculate variance\n",
    "        variance = squared_diff_sum / len(column_values)\n",
    "\n",
    "        return variance\n",
    "\n",
    "\n",
    "        \n",
    "\n"
   ]
  },
  {
   "cell_type": "code",
   "execution_count": 42,
   "id": "ae54fc88",
   "metadata": {},
   "outputs": [],
   "source": [
    "file_path = r'C:\\Users\\pc\\Downloads\\Iris.csv'\n",
    "iris_data = data(file_path)"
   ]
  },
  {
   "cell_type": "code",
   "execution_count": 5,
   "id": "b6692d27",
   "metadata": {},
   "outputs": [
    {
     "data": {
      "text/plain": [
       "5.843333333333335"
      ]
     },
     "execution_count": 5,
     "metadata": {},
     "output_type": "execute_result"
    }
   ],
   "source": [
    "arithmeticmean= iris_data.Arithmetic_Mean('SepalLengthCm')\n",
    "arithmeticmean"
   ]
  },
  {
   "cell_type": "code",
   "execution_count": 6,
   "id": "3b2c15b1",
   "metadata": {},
   "outputs": [
    {
     "data": {
      "text/plain": [
       "5.785720390427729"
      ]
     },
     "execution_count": 6,
     "metadata": {},
     "output_type": "execute_result"
    }
   ],
   "source": [
    "geometric_mean_sepal_length = iris_data.Geometric_Mean('SepalLengthCm')\n",
    "geometric_mean_sepal_length\n"
   ]
  },
  {
   "cell_type": "code",
   "execution_count": 7,
   "id": "ee301ad6",
   "metadata": {},
   "outputs": [
    {
     "data": {
      "text/plain": [
       "5.728905057850834"
      ]
     },
     "execution_count": 7,
     "metadata": {},
     "output_type": "execute_result"
    }
   ],
   "source": [
    "harmonic_mean=iris_data.Harmonic_Mean('SepalLengthCm')\n",
    "harmonic_mean"
   ]
  },
  {
   "cell_type": "code",
   "execution_count": 8,
   "id": "7f047123",
   "metadata": {},
   "outputs": [
    {
     "data": {
      "text/plain": [
       "2.6964718010995794"
      ]
     },
     "execution_count": 8,
     "metadata": {},
     "output_type": "execute_result"
    }
   ],
   "source": [
    "harmonic_mean=iris_data.Harmonic_Mean('PetalLengthCm')\n",
    "harmonic_mean"
   ]
  },
  {
   "cell_type": "code",
   "execution_count": 9,
   "id": "95e1d4e3",
   "metadata": {},
   "outputs": [
    {
     "data": {
      "text/plain": [
       "4.3"
      ]
     },
     "execution_count": 9,
     "metadata": {},
     "output_type": "execute_result"
    }
   ],
   "source": [
    "Minimum=iris_data.Min('SepalLengthCm')\n",
    "Minimum"
   ]
  },
  {
   "cell_type": "code",
   "execution_count": 13,
   "id": "3a61454e",
   "metadata": {},
   "outputs": [
    {
     "data": {
      "text/plain": [
       "7.9"
      ]
     },
     "execution_count": 13,
     "metadata": {},
     "output_type": "execute_result"
    }
   ],
   "source": [
    "maximum=iris_data.Max('SepalLengthCm')\n",
    "maximum"
   ]
  },
  {
   "cell_type": "code",
   "execution_count": 14,
   "id": "f8ad45d9",
   "metadata": {},
   "outputs": [
    {
     "data": {
      "text/plain": [
       "5.9"
      ]
     },
     "execution_count": 14,
     "metadata": {},
     "output_type": "execute_result"
    }
   ],
   "source": [
    "Range=iris_data.Range('PetalLengthCm')\n",
    "Range"
   ]
  },
  {
   "cell_type": "code",
   "execution_count": 27,
   "id": "e1079811",
   "metadata": {},
   "outputs": [
    {
     "data": {
      "text/plain": [
       "4.35"
      ]
     },
     "execution_count": 27,
     "metadata": {},
     "output_type": "execute_result"
    }
   ],
   "source": [
    "med=iris_data.medium('PetalLengthCm')\n",
    "med"
   ]
  },
  {
   "cell_type": "code",
   "execution_count": 31,
   "id": "143ec47c",
   "metadata": {},
   "outputs": [
    {
     "data": {
      "text/plain": [
       "0.2950819672131148"
      ]
     },
     "execution_count": 31,
     "metadata": {},
     "output_type": "execute_result"
    }
   ],
   "source": [
    "cofofrange=iris_data.CoefficientOfRange('SepalLengthCm')\n",
    "cofofrange"
   ]
  },
  {
   "cell_type": "code",
   "execution_count": 35,
   "id": "90e5a65a",
   "metadata": {},
   "outputs": [
    {
     "data": {
      "text/plain": [
       "14.12380989934639"
      ]
     },
     "execution_count": 35,
     "metadata": {},
     "output_type": "execute_result"
    }
   ],
   "source": [
    "coffofvariance=iris_data.CoefficientOfVariation('SepalLengthCm')\n",
    "coffofvariance"
   ]
  },
  {
   "cell_type": "code",
   "execution_count": 39,
   "id": "c06e789b",
   "metadata": {},
   "outputs": [
    {
     "data": {
      "text/plain": [
       "0.6345489031603212"
      ]
     },
     "execution_count": 39,
     "metadata": {},
     "output_type": "execute_result"
    }
   ],
   "source": [
    "cosd=iris_data.CoefficientOfStandardDeviation('PetalWidthCm')\n",
    "cosd"
   ]
  },
  {
   "cell_type": "code",
   "execution_count": 43,
   "id": "d49ada09",
   "metadata": {},
   "outputs": [
    {
     "data": {
      "text/plain": [
       "3.0924248888888854"
      ]
     },
     "execution_count": 43,
     "metadata": {},
     "output_type": "execute_result"
    }
   ],
   "source": [
    "varnce=iris_data.Variance('PetalLengthCm')\n",
    "varnce"
   ]
  },
  {
   "cell_type": "code",
   "execution_count": null,
   "id": "754b454c",
   "metadata": {},
   "outputs": [],
   "source": []
  },
  {
   "cell_type": "code",
   "execution_count": null,
   "id": "a337b417",
   "metadata": {},
   "outputs": [],
   "source": []
  },
  {
   "cell_type": "code",
   "execution_count": null,
   "id": "0ddfc80d",
   "metadata": {},
   "outputs": [],
   "source": []
  },
  {
   "cell_type": "code",
   "execution_count": null,
   "id": "02e553a1",
   "metadata": {},
   "outputs": [],
   "source": []
  }
 ],
 "metadata": {
  "kernelspec": {
   "display_name": "Python 3 (ipykernel)",
   "language": "python",
   "name": "python3"
  },
  "language_info": {
   "codemirror_mode": {
    "name": "ipython",
    "version": 3
   },
   "file_extension": ".py",
   "mimetype": "text/x-python",
   "name": "python",
   "nbconvert_exporter": "python",
   "pygments_lexer": "ipython3",
   "version": "3.9.13"
  }
 },
 "nbformat": 4,
 "nbformat_minor": 5
}
