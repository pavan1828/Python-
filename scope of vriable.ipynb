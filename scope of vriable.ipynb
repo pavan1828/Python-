{
 "cells": [
  {
   "cell_type": "markdown",
   "id": "e9e186f9",
   "metadata": {},
   "source": [
    "# NAME SPACE\n"
   ]
  },
  {
   "cell_type": "markdown",
   "id": "b45bd7c6",
   "metadata": {},
   "source": [
    "* In Python, a namespace is a system that has a unique name for each and every object. An object might be a variable or a method.\n",
    "* Python itself maintains a namespace in the form of a Python dictionary namespace is a collection of currently defined symbolic names along with information about the object that each name references.\n",
    "* In Python, there are four types of namespaces:\n",
    "\n",
    "1. Built-In\n",
    "2.Global\n",
    "3.Enclosing\n",
    "4.Local"
   ]
  },
  {
   "cell_type": "markdown",
   "id": "f180e3d7",
   "metadata": {},
   "source": [
    "### Scope of Variable\n",
    "\n",
    "A variable’s scope determines the region of the code where it can be accessed"
   ]
  },
  {
   "cell_type": "markdown",
   "id": "b3a63cb5",
   "metadata": {},
   "source": [
    "### Types of variable scope\n",
    "This is the LEGB rule as it’s commonly called in Python literature. The interpreter searches for a name from the inside out, looking in the local, enclosing, global, and finally the built-in scope"
   ]
  },
  {
   "attachments": {
    "scope.png": {
     "image/png": "[encoded data removed]"
    }
   },
   "cell_type": "markdown",
   "id": "1152baf3",
   "metadata": {},
   "source": [
    "![scope.png](attachment:scope.png)"
   ]
  },
  {
   "cell_type": "markdown",
   "id": "83c5e743",
   "metadata": {},
   "source": [
    "**1.local:**"
   ]
  },
  {
   "cell_type": "markdown",
   "id": "951b5231",
   "metadata": {},
   "source": [
    "Local variables in python are those variables that are declared inside the function. Alternatively, they are said to defined within a local scope. A user can only access a local variable inside the function but never outside it."
   ]
  },
  {
   "cell_type": "code",
   "execution_count": 4,
   "id": "c2912f66",
   "metadata": {},
   "outputs": [
    {
     "data": {
      "text/plain": [
       "15"
      ]
     },
     "execution_count": 4,
     "metadata": {},
     "output_type": "execute_result"
    }
   ],
   "source": [
    "def sum(x,y):\n",
    "    sum = x + y\n",
    "    return sum\n",
    "\n",
    "sum(5, 10)\n"
   ]
  },
  {
   "cell_type": "markdown",
   "id": "f0b35e9e",
   "metadata": {},
   "source": [
    "**2.Global:**\n",
    "\n",
    "* Variables that are created outside of a function  are known as global variables.\n",
    "\n",
    "* Global variables can be used by everyone, both inside of functions and outside."
   ]
  },
  {
   "cell_type": "code",
   "execution_count": 6,
   "id": "f2346bd5",
   "metadata": {},
   "outputs": [
    {
     "name": "stdout",
     "output_type": "stream",
     "text": [
      "Python is programming lang\n"
     ]
    }
   ],
   "source": [
    "x = \"programming lang\"\n",
    "\n",
    "def fun():\n",
    "  print(\"Python is \" + x)\n",
    "\n",
    "fun()"
   ]
  },
  {
   "cell_type": "markdown",
   "id": "0c559c8e",
   "metadata": {},
   "source": [
    "**3. Enclosing:**"
   ]
  },
  {
   "cell_type": "markdown",
   "id": "4b353d2e",
   "metadata": {},
   "source": [
    "If x isn’t in the local scope but appears in a function that resides inside another function, then the interpreter searches in the enclosing function’s scope."
   ]
  },
  {
   "cell_type": "code",
   "execution_count": 7,
   "id": "0458caf7",
   "metadata": {},
   "outputs": [
    {
     "name": "stdout",
     "output_type": "stream",
     "text": [
      "inner: inner\n",
      "outer: inner\n"
     ]
    }
   ],
   "source": [
    "def outer_function():\n",
    "    x = \"outer\"\n",
    "\n",
    "    def inner_function():\n",
    "        nonlocal x\n",
    "        x = \"inner\"\n",
    "        print(\"inner:\", x)\n",
    "\n",
    "    inner_function()\n",
    "    print(\"outer:\", x)\n",
    "\n",
    "outer_function()"
   ]
  },
  {
   "cell_type": "markdown",
   "id": "b5a7b65c",
   "metadata": {},
   "source": [
    "**4.Built in:** If it can’t find x anywhere else, then the interpreter tries the built-in scope."
   ]
  },
  {
   "cell_type": "code",
   "execution_count": 8,
   "id": "e986edaa",
   "metadata": {},
   "outputs": [
    {
     "name": "stdout",
     "output_type": "stream",
     "text": [
      "Python\n"
     ]
    }
   ],
   "source": [
    "def f():\n",
    "    b='Python'\n",
    "    print(b)\n",
    "    \n",
    "f()"
   ]
  },
  {
   "cell_type": "code",
   "execution_count": null,
   "id": "0512ff77",
   "metadata": {},
   "outputs": [],
   "source": []
  }
 ],
 "metadata": {
  "kernelspec": {
   "display_name": "Python 3 (ipykernel)",
   "language": "python",
   "name": "python3"
  },
  "language_info": {
   "codemirror_mode": {
    "name": "ipython",
    "version": 3
   },
   "file_extension": ".py",
   "mimetype": "text/x-python",
   "name": "python",
   "nbconvert_exporter": "python",
   "pygments_lexer": "ipython3",
   "version": "3.9.13"
  }
 },
 "nbformat": 4,
 "nbformat_minor": 5
}
