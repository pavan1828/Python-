{
 "cells": [
  {
   "cell_type": "code",
   "execution_count": 3,
   "id": "88cfd868",
   "metadata": {},
   "outputs": [],
   "source": [
    "import numpy as np\n",
    "import pandas as pd"
   ]
  },
  {
   "cell_type": "code",
   "execution_count": 4,
   "id": "f05b71f5",
   "metadata": {},
   "outputs": [],
   "source": [
    "d={'ProductA':[25,30,28,32,26,29,27,33,31,28,30,29],'ProductB':[40,35,38,41,37,36,39,42,38,37,40,36]}"
   ]
  },
  {
   "cell_type": "code",
   "execution_count": 5,
   "id": "04f3837b",
   "metadata": {},
   "outputs": [
    {
     "data": {
      "text/html": [
       "<div>\n",
       "<style scoped>\n",
       "    .dataframe tbody tr th:only-of-type {\n",
       "        vertical-align: middle;\n",
       "    }\n",
       "\n",
       "    .dataframe tbody tr th {\n",
       "        vertical-align: top;\n",
       "    }\n",
       "\n",
       "    .dataframe thead th {\n",
       "        text-align: right;\n",
       "    }\n",
       "</style>\n",
       "<table border=\"1\" class=\"dataframe\">\n",
       "  <thead>\n",
       "    <tr style=\"text-align: right;\">\n",
       "      <th></th>\n",
       "      <th>ProductA</th>\n",
       "      <th>ProductB</th>\n",
       "    </tr>\n",
       "  </thead>\n",
       "  <tbody>\n",
       "    <tr>\n",
       "      <th>0</th>\n",
       "      <td>25</td>\n",
       "      <td>40</td>\n",
       "    </tr>\n",
       "    <tr>\n",
       "      <th>1</th>\n",
       "      <td>30</td>\n",
       "      <td>35</td>\n",
       "    </tr>\n",
       "    <tr>\n",
       "      <th>2</th>\n",
       "      <td>28</td>\n",
       "      <td>38</td>\n",
       "    </tr>\n",
       "    <tr>\n",
       "      <th>3</th>\n",
       "      <td>32</td>\n",
       "      <td>41</td>\n",
       "    </tr>\n",
       "    <tr>\n",
       "      <th>4</th>\n",
       "      <td>26</td>\n",
       "      <td>37</td>\n",
       "    </tr>\n",
       "    <tr>\n",
       "      <th>5</th>\n",
       "      <td>29</td>\n",
       "      <td>36</td>\n",
       "    </tr>\n",
       "    <tr>\n",
       "      <th>6</th>\n",
       "      <td>27</td>\n",
       "      <td>39</td>\n",
       "    </tr>\n",
       "    <tr>\n",
       "      <th>7</th>\n",
       "      <td>33</td>\n",
       "      <td>42</td>\n",
       "    </tr>\n",
       "    <tr>\n",
       "      <th>8</th>\n",
       "      <td>31</td>\n",
       "      <td>38</td>\n",
       "    </tr>\n",
       "    <tr>\n",
       "      <th>9</th>\n",
       "      <td>28</td>\n",
       "      <td>37</td>\n",
       "    </tr>\n",
       "    <tr>\n",
       "      <th>10</th>\n",
       "      <td>30</td>\n",
       "      <td>40</td>\n",
       "    </tr>\n",
       "    <tr>\n",
       "      <th>11</th>\n",
       "      <td>29</td>\n",
       "      <td>36</td>\n",
       "    </tr>\n",
       "  </tbody>\n",
       "</table>\n",
       "</div>"
      ],
      "text/plain": [
       "    ProductA  ProductB\n",
       "0         25        40\n",
       "1         30        35\n",
       "2         28        38\n",
       "3         32        41\n",
       "4         26        37\n",
       "5         29        36\n",
       "6         27        39\n",
       "7         33        42\n",
       "8         31        38\n",
       "9         28        37\n",
       "10        30        40\n",
       "11        29        36"
      ]
     },
     "execution_count": 5,
     "metadata": {},
     "output_type": "execute_result"
    }
   ],
   "source": [
    "data=pd.DataFrame(d)\n",
    "data"
   ]
  },
  {
   "cell_type": "code",
   "execution_count": 6,
   "id": "5d4c8f20",
   "metadata": {},
   "outputs": [
    {
     "data": {
      "text/html": [
       "<div>\n",
       "<style scoped>\n",
       "    .dataframe tbody tr th:only-of-type {\n",
       "        vertical-align: middle;\n",
       "    }\n",
       "\n",
       "    .dataframe tbody tr th {\n",
       "        vertical-align: top;\n",
       "    }\n",
       "\n",
       "    .dataframe thead th {\n",
       "        text-align: right;\n",
       "    }\n",
       "</style>\n",
       "<table border=\"1\" class=\"dataframe\">\n",
       "  <thead>\n",
       "    <tr style=\"text-align: right;\">\n",
       "      <th></th>\n",
       "      <th>ProductA</th>\n",
       "      <th>ProductB</th>\n",
       "    </tr>\n",
       "  </thead>\n",
       "  <tbody>\n",
       "    <tr>\n",
       "      <th>count</th>\n",
       "      <td>12.000000</td>\n",
       "      <td>12.000000</td>\n",
       "    </tr>\n",
       "    <tr>\n",
       "      <th>mean</th>\n",
       "      <td>29.000000</td>\n",
       "      <td>38.250000</td>\n",
       "    </tr>\n",
       "    <tr>\n",
       "      <th>std</th>\n",
       "      <td>2.374103</td>\n",
       "      <td>2.179449</td>\n",
       "    </tr>\n",
       "    <tr>\n",
       "      <th>min</th>\n",
       "      <td>25.000000</td>\n",
       "      <td>35.000000</td>\n",
       "    </tr>\n",
       "    <tr>\n",
       "      <th>25%</th>\n",
       "      <td>27.750000</td>\n",
       "      <td>36.750000</td>\n",
       "    </tr>\n",
       "    <tr>\n",
       "      <th>50%</th>\n",
       "      <td>29.000000</td>\n",
       "      <td>38.000000</td>\n",
       "    </tr>\n",
       "    <tr>\n",
       "      <th>75%</th>\n",
       "      <td>30.250000</td>\n",
       "      <td>40.000000</td>\n",
       "    </tr>\n",
       "    <tr>\n",
       "      <th>max</th>\n",
       "      <td>33.000000</td>\n",
       "      <td>42.000000</td>\n",
       "    </tr>\n",
       "  </tbody>\n",
       "</table>\n",
       "</div>"
      ],
      "text/plain": [
       "        ProductA   ProductB\n",
       "count  12.000000  12.000000\n",
       "mean   29.000000  38.250000\n",
       "std     2.374103   2.179449\n",
       "min    25.000000  35.000000\n",
       "25%    27.750000  36.750000\n",
       "50%    29.000000  38.000000\n",
       "75%    30.250000  40.000000\n",
       "max    33.000000  42.000000"
      ]
     },
     "execution_count": 6,
     "metadata": {},
     "output_type": "execute_result"
    }
   ],
   "source": [
    "data.describe()\n"
   ]
  },
  {
   "cell_type": "code",
   "execution_count": 8,
   "id": "b9cb06d4",
   "metadata": {},
   "outputs": [
    {
     "name": "stdout",
     "output_type": "stream",
     "text": [
      "<class 'pandas.core.frame.DataFrame'>\n",
      "RangeIndex: 12 entries, 0 to 11\n",
      "Data columns (total 2 columns):\n",
      " #   Column    Non-Null Count  Dtype\n",
      "---  ------    --------------  -----\n",
      " 0   ProductA  12 non-null     int64\n",
      " 1   ProductB  12 non-null     int64\n",
      "dtypes: int64(2)\n",
      "memory usage: 320.0 bytes\n"
     ]
    }
   ],
   "source": [
    "data.info()"
   ]
  },
  {
   "cell_type": "markdown",
   "id": "addaf45f",
   "metadata": {},
   "source": [
    "# 1.Calculate the mean sales for Product A and Product B. Compare the average monthly sales for the two products and discuss any observed trends."
   ]
  },
  {
   "cell_type": "code",
   "execution_count": 5,
   "id": "bc5301f5",
   "metadata": {},
   "outputs": [
    {
     "data": {
      "text/plain": [
       "ProductA    29.00\n",
       "ProductB    38.25\n",
       "dtype: float64"
      ]
     },
     "execution_count": 5,
     "metadata": {},
     "output_type": "execute_result"
    }
   ],
   "source": [
    "data.mean()"
   ]
  },
  {
   "cell_type": "markdown",
   "id": "cbf007bb",
   "metadata": {},
   "source": [
    "#### On average, ProductB has higher monthly sales compared to ProductA."
   ]
  },
  {
   "cell_type": "markdown",
   "id": "12ebffa9",
   "metadata": {},
   "source": [
    "# 2.Find the median sales for each product and discuss how it reflects the central tendency of the sales distribution."
   ]
  },
  {
   "cell_type": "code",
   "execution_count": 7,
   "id": "345a26d2",
   "metadata": {},
   "outputs": [
    {
     "data": {
      "text/plain": [
       "ProductA    29.0\n",
       "ProductB    38.0\n",
       "dtype: float64"
      ]
     },
     "execution_count": 7,
     "metadata": {},
     "output_type": "execute_result"
    }
   ],
   "source": [
    "data.median()"
   ]
  },
  {
   "cell_type": "markdown",
   "id": "60687698",
   "metadata": {},
   "source": [
    "* If the median are close to the mean, it suggests a relatively symmetric distribution of sales.\n",
    "* If the median are significantly different from the mean, it indicates potential skewness in the sales distribution."
   ]
  },
  {
   "cell_type": "markdown",
   "id": "5b5c06bc",
   "metadata": {},
   "source": [
    "median is a measure of central tendency that is less sensitive to ex outliers than the mean. If there are outliers in the sales data, the median may provide a more robust representation of the central sales tendency."
   ]
  },
  {
   "cell_type": "markdown",
   "id": "9a3048e0",
   "metadata": {},
   "source": [
    "# 3.Identify the mode of the sales data for both Product A and Product B. Discuss the significance of the mode in the context of these products."
   ]
  },
  {
   "cell_type": "code",
   "execution_count": 6,
   "id": "ae08fed9",
   "metadata": {},
   "outputs": [
    {
     "data": {
      "text/html": [
       "<div>\n",
       "<style scoped>\n",
       "    .dataframe tbody tr th:only-of-type {\n",
       "        vertical-align: middle;\n",
       "    }\n",
       "\n",
       "    .dataframe tbody tr th {\n",
       "        vertical-align: top;\n",
       "    }\n",
       "\n",
       "    .dataframe thead th {\n",
       "        text-align: right;\n",
       "    }\n",
       "</style>\n",
       "<table border=\"1\" class=\"dataframe\">\n",
       "  <thead>\n",
       "    <tr style=\"text-align: right;\">\n",
       "      <th></th>\n",
       "      <th>ProductA</th>\n",
       "      <th>ProductB</th>\n",
       "    </tr>\n",
       "  </thead>\n",
       "  <tbody>\n",
       "    <tr>\n",
       "      <th>0</th>\n",
       "      <td>28.0</td>\n",
       "      <td>36</td>\n",
       "    </tr>\n",
       "    <tr>\n",
       "      <th>1</th>\n",
       "      <td>29.0</td>\n",
       "      <td>37</td>\n",
       "    </tr>\n",
       "    <tr>\n",
       "      <th>2</th>\n",
       "      <td>30.0</td>\n",
       "      <td>38</td>\n",
       "    </tr>\n",
       "    <tr>\n",
       "      <th>3</th>\n",
       "      <td>NaN</td>\n",
       "      <td>40</td>\n",
       "    </tr>\n",
       "  </tbody>\n",
       "</table>\n",
       "</div>"
      ],
      "text/plain": [
       "   ProductA  ProductB\n",
       "0      28.0        36\n",
       "1      29.0        37\n",
       "2      30.0        38\n",
       "3       NaN        40"
      ]
     },
     "execution_count": 6,
     "metadata": {},
     "output_type": "execute_result"
    }
   ],
   "source": [
    "data.mode()"
   ]
  },
  {
   "cell_type": "markdown",
   "id": "1adb4643",
   "metadata": {},
   "source": [
    "**Product A Mode:**\n",
    "\n",
    "The mode represents the sales figure that occurs most frequently for Product A.\n",
    "If there's more than one mode, it means that there are multiple sales values with the same highest frequency.\n",
    "\n",
    "\n",
    "**Product B Mode:**\n",
    "\n",
    "The mode represents the sales figure that occurs most frequently for Product B.\n",
    "Similar to Product A, if there's more than one mode, it indicates multiple sales values with the same highest frequency."
   ]
  },
  {
   "cell_type": "markdown",
   "id": "8c180ac1",
   "metadata": {},
   "source": [
    "# 4.Calculate the weighted mean of the sales data, assuming each month has an equal weight. Discuss any implications of using weighted mean in this context.\n",
    "\n"
   ]
  },
  {
   "cell_type": "code",
   "execution_count": 8,
   "id": "ad82da04",
   "metadata": {},
   "outputs": [],
   "source": [
    "weights = [1] * len(data)\n",
    "\n",
    "# Calculate the weighted mean for Product A and Product B\n",
    "\n",
    "weighted_mean_A = sum(data['ProductA'] * weights) / sum(weights)\n",
    "weighted_mean_B = sum(data['ProductB'] * weights) / sum(weights)\n"
   ]
  },
  {
   "cell_type": "code",
   "execution_count": 9,
   "id": "958c2cf3",
   "metadata": {},
   "outputs": [
    {
     "data": {
      "text/plain": [
       "29.0"
      ]
     },
     "execution_count": 9,
     "metadata": {},
     "output_type": "execute_result"
    }
   ],
   "source": [
    "weighted_mean_A "
   ]
  },
  {
   "cell_type": "code",
   "execution_count": 10,
   "id": "1f8f1843",
   "metadata": {},
   "outputs": [
    {
     "data": {
      "text/plain": [
       "38.25"
      ]
     },
     "execution_count": 10,
     "metadata": {},
     "output_type": "execute_result"
    }
   ],
   "source": [
    "weighted_mean_B"
   ]
  },
  {
   "cell_type": "markdown",
   "id": "79aa5f89",
   "metadata": {},
   "source": [
    "# Measures of Dispersion:\n"
   ]
  },
  {
   "cell_type": "markdown",
   "id": "98145ece",
   "metadata": {},
   "source": [
    "# 1.Compute the range of monthly sales for both Product A and Product B. Discuss how the range provides insights into the variability of sales.\n"
   ]
  },
  {
   "cell_type": "code",
   "execution_count": 11,
   "id": "6b675f17",
   "metadata": {},
   "outputs": [
    {
     "name": "stdout",
     "output_type": "stream",
     "text": [
      "8\n",
      "7\n"
     ]
    }
   ],
   "source": [
    "range_A = data['ProductA'].max() - data['ProductA'].min()\n",
    "range_B = data['ProductB'].max() - data['ProductB'].min()\n",
    "\n",
    "print(range_A)\n",
    "print(range_B)"
   ]
  },
  {
   "cell_type": "markdown",
   "id": "f09cf703",
   "metadata": {},
   "source": [
    "* larger range suggests more variability in sales, with potentially higher highs and lower lows.\n",
    "* larger range indicates more variability in sales for Product B as well.\n",
    "\n",
    "* If the range is large, it suggests that there are substantial differences in monthly sales, indicating higher variability.\n",
    "*  smaller range implies more consistent monthly sales, indicating lower variability."
   ]
  },
  {
   "cell_type": "markdown",
   "id": "eb5ba3ac",
   "metadata": {},
   "source": [
    "# 2.Calculate the variance of the sales data for both products. Discuss what the variance reveals about the spread of sales for each product.\n"
   ]
  },
  {
   "cell_type": "code",
   "execution_count": 12,
   "id": "b5b93e16",
   "metadata": {},
   "outputs": [
    {
     "data": {
      "text/plain": [
       "ProductA    5.636364\n",
       "ProductB    4.750000\n",
       "dtype: float64"
      ]
     },
     "execution_count": 12,
     "metadata": {},
     "output_type": "execute_result"
    }
   ],
   "source": [
    "data.var()"
   ]
  },
  {
   "cell_type": "markdown",
   "id": "21659563",
   "metadata": {},
   "source": [
    "* More variability in sales values, indicating less predictability and potentially greater risk.\n",
    "\n",
    "\n",
    "* Less spread in sales values, suggesting more consistent and predictable sales patterns.\n",
    "\n",
    "\n",
    "\n",
    "\n",
    "\n"
   ]
  },
  {
   "cell_type": "markdown",
   "id": "efaedd12",
   "metadata": {},
   "source": [
    "# 3.Determine the standard deviation of the sales for Product A and Product B. Discuss the significance of standard deviation in understanding the variability in sales.\n",
    "\n"
   ]
  },
  {
   "cell_type": "code",
   "execution_count": 13,
   "id": "535b898a",
   "metadata": {},
   "outputs": [
    {
     "data": {
      "text/plain": [
       "ProductA    2.374103\n",
       "ProductB    2.179449\n",
       "dtype: float64"
      ]
     },
     "execution_count": 13,
     "metadata": {},
     "output_type": "execute_result"
    }
   ],
   "source": [
    "data.std()"
   ]
  },
  {
   "cell_type": "markdown",
   "id": "7d3c4e3c",
   "metadata": {},
   "source": [
    "* If the standard deviation is high, it means that monthly sales numbers vary a lot from the average. Some months may have significantly higher or lower sales than the typical month.\n",
    "\n",
    "* If the standard deviation is low, it indicates that sales values tend to be close to the average. There's less variation from one month to another."
   ]
  },
  {
   "cell_type": "markdown",
   "id": "3d34af3b",
   "metadata": {},
   "source": [
    "# Relative Measures of Dispersion:\n"
   ]
  },
  {
   "cell_type": "markdown",
   "id": "b94e2996",
   "metadata": {},
   "source": [
    "# 1.Calculate the coefficient of variation for the sales data of Product A. Discuss how this relative measure of dispersion helps in comparing the variability of products with different average sales.\n"
   ]
  },
  {
   "cell_type": "code",
   "execution_count": 14,
   "id": "e900a7b3",
   "metadata": {},
   "outputs": [],
   "source": [
    "mean_A = data['ProductA'].mean()\n",
    "std_dev_A = data['ProductA'].std()\n",
    "cv_A = (std_dev_A / mean_A) * 100"
   ]
  },
  {
   "cell_type": "code",
   "execution_count": 15,
   "id": "ab9214b3",
   "metadata": {},
   "outputs": [
    {
     "data": {
      "text/plain": [
       "8.186561038997239"
      ]
     },
     "execution_count": 15,
     "metadata": {},
     "output_type": "execute_result"
    }
   ],
   "source": [
    "cv_A"
   ]
  },
  {
   "cell_type": "markdown",
   "id": "dbe9c61c",
   "metadata": {},
   "source": [
    "The coefficient of variation is like a percentage that helps businesses compare how much a product's sales tend to vary compared to its average. If the percentage is higher, it means the sales are more unpredictable. If it's lower, the sales are more consistent. This measure is useful for understanding and comparing the risk associated with different products' sales patterns."
   ]
  },
  {
   "cell_type": "markdown",
   "id": "3f736aca",
   "metadata": {},
   "source": [
    "# 2.Compute the relative range for Product B. Discuss how the relative range accounts for the scale of the sales data.\n"
   ]
  },
  {
   "cell_type": "code",
   "execution_count": 17,
   "id": "5183a3da",
   "metadata": {},
   "outputs": [],
   "source": [
    "mean_B = data['ProductB'].mean()\n",
    "range_B = data['ProductB'].max() - data['ProductB'].min()\n",
    "relative_range_B = (range_B / mean_B) * 100\n"
   ]
  },
  {
   "cell_type": "code",
   "execution_count": 18,
   "id": "3a9b0979",
   "metadata": {},
   "outputs": [
    {
     "data": {
      "text/plain": [
       "18.30065359477124"
      ]
     },
     "execution_count": 18,
     "metadata": {},
     "output_type": "execute_result"
    }
   ],
   "source": [
    "relative_range_B"
   ]
  },
  {
   "cell_type": "markdown",
   "id": "2d14b694",
   "metadata": {},
   "source": [
    "The relative range accounts for the scale of sales data by expressing the range as a percentage of the mean. This normalization enables fair comparisons between products with different average sales, offering a proportional measure of variability relative to each product's average.\n",
    "\n",
    "\n",
    "\n",
    "\n",
    "\n"
   ]
  },
  {
   "cell_type": "markdown",
   "id": "fc07a8e5",
   "metadata": {},
   "source": [
    "# 3.Determine the relative standard deviation for Product A. Interpret the result and discuss its implications for understanding the variability relative to the mean.\n",
    "\n"
   ]
  },
  {
   "cell_type": "code",
   "execution_count": 19,
   "id": "9401d113",
   "metadata": {},
   "outputs": [],
   "source": [
    "mean_A = data['ProductA'].mean()\n",
    "std_dev_A = data['ProductA'].std()\n",
    "rsd_A = (std_dev_A / mean_A) * 100\n"
   ]
  },
  {
   "cell_type": "code",
   "execution_count": 20,
   "id": "fad025d4",
   "metadata": {},
   "outputs": [
    {
     "data": {
      "text/plain": [
       "8.186561038997239"
      ]
     },
     "execution_count": 20,
     "metadata": {},
     "output_type": "execute_result"
    }
   ],
   "source": [
    "rsd_A"
   ]
  },
  {
   "cell_type": "markdown",
   "id": "b002590f",
   "metadata": {},
   "source": [
    "8.19% Relative Standard Deviation  suggests a moderate level of variability in the data relative to the mean. It implies that, on average, values deviate by approximately 8.19% from the mean, indicating a relatively stable pattern with some degree of fluctuation."
   ]
  },
  {
   "cell_type": "code",
   "execution_count": null,
   "id": "8741d847",
   "metadata": {},
   "outputs": [],
   "source": []
  }
 ],
 "metadata": {
  "kernelspec": {
   "display_name": "Python 3 (ipykernel)",
   "language": "python",
   "name": "python3"
  },
  "language_info": {
   "codemirror_mode": {
    "name": "ipython",
    "version": 3
   },
   "file_extension": ".py",
   "mimetype": "text/x-python",
   "name": "python",
   "nbconvert_exporter": "python",
   "pygments_lexer": "ipython3",
   "version": "3.9.13"
  }
 },
 "nbformat": 4,
 "nbformat_minor": 5
}
